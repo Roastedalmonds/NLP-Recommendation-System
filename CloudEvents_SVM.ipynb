{
 "cells": [
  {
   "cell_type": "code",
   "execution_count": 1,
   "metadata": {},
   "outputs": [],
   "source": [
    "import pandas as pd \n",
    "from sklearn.svm import SVC\n",
    "from sklearn.metrics import accuracy_score"
   ]
  },
  {
   "cell_type": "code",
   "execution_count": 2,
   "metadata": {},
   "outputs": [],
   "source": [
    "printscoreone=0\n",
    "printscoretwo=0"
   ]
  },
  {
   "cell_type": "code",
   "execution_count": 3,
   "metadata": {},
   "outputs": [
    {
     "data": {
      "text/html": [
       "<div>\n",
       "<style scoped>\n",
       "    .dataframe tbody tr th:only-of-type {\n",
       "        vertical-align: middle;\n",
       "    }\n",
       "\n",
       "    .dataframe tbody tr th {\n",
       "        vertical-align: top;\n",
       "    }\n",
       "\n",
       "    .dataframe thead th {\n",
       "        text-align: right;\n",
       "    }\n",
       "</style>\n",
       "<table border=\"1\" class=\"dataframe\">\n",
       "  <thead>\n",
       "    <tr style=\"text-align: right;\">\n",
       "      <th></th>\n",
       "      <th>Name</th>\n",
       "      <th>Domain</th>\n",
       "      <th>Event1</th>\n",
       "      <th>Event2</th>\n",
       "    </tr>\n",
       "  </thead>\n",
       "  <tbody>\n",
       "    <tr>\n",
       "      <th>0</th>\n",
       "      <td>Bryan Brock</td>\n",
       "      <td>Management</td>\n",
       "      <td>Jobs</td>\n",
       "      <td>Hackathons</td>\n",
       "    </tr>\n",
       "    <tr>\n",
       "      <th>1</th>\n",
       "      <td>Joseph Sullivan</td>\n",
       "      <td>Coding</td>\n",
       "      <td>Certifications</td>\n",
       "      <td>Webinars</td>\n",
       "    </tr>\n",
       "    <tr>\n",
       "      <th>2</th>\n",
       "      <td>Sherri Dawson</td>\n",
       "      <td>Security</td>\n",
       "      <td>Internships</td>\n",
       "      <td>Fests</td>\n",
       "    </tr>\n",
       "    <tr>\n",
       "      <th>3</th>\n",
       "      <td>Dustin Ferguson</td>\n",
       "      <td>Hardware</td>\n",
       "      <td>Competitions</td>\n",
       "      <td>Webinars</td>\n",
       "    </tr>\n",
       "    <tr>\n",
       "      <th>4</th>\n",
       "      <td>Kayla Young</td>\n",
       "      <td>Web Development</td>\n",
       "      <td>Expos</td>\n",
       "      <td>Certifications</td>\n",
       "    </tr>\n",
       "  </tbody>\n",
       "</table>\n",
       "</div>"
      ],
      "text/plain": [
       "              Name           Domain          Event1          Event2\n",
       "0      Bryan Brock       Management            Jobs      Hackathons\n",
       "1  Joseph Sullivan           Coding  Certifications        Webinars\n",
       "2    Sherri Dawson         Security     Internships           Fests\n",
       "3  Dustin Ferguson         Hardware    Competitions        Webinars\n",
       "4      Kayla Young  Web Development           Expos  Certifications"
      ]
     },
     "execution_count": 3,
     "metadata": {},
     "output_type": "execute_result"
    }
   ],
   "source": [
    "df = pd.read_csv('D:\\\\Cloud Counselage\\\\Data.csv')\n",
    "df.head()"
   ]
  },
  {
   "cell_type": "code",
   "execution_count": 4,
   "metadata": {},
   "outputs": [
    {
     "data": {
      "text/plain": [
       "array(['Management', 'Coding', 'Security', 'Hardware', 'Web Development',\n",
       "       'Higher Education', 'IoT', 'Java', 'Artificial Intelligence',\n",
       "       'Python', 'Finance', 'Mobile Applications', 'C++',\n",
       "       'Software Architecture', 'Other', 'C', 'Cloud Computing',\n",
       "       'Networking', 'JavaScript', 'Machine Learning', 'Blockchain',\n",
       "       'Development Processes', 'Data Science'], dtype=object)"
      ]
     },
     "execution_count": 4,
     "metadata": {},
     "output_type": "execute_result"
    }
   ],
   "source": [
    "df.Domain.unique()"
   ]
  },
  {
   "cell_type": "code",
   "execution_count": 5,
   "metadata": {},
   "outputs": [
    {
     "data": {
      "text/plain": [
       "array(['Jobs', 'Certifications', 'Internships', 'Competitions', 'Expos',\n",
       "       'Workshops', 'Trainings', 'Seminars', 'Hackathons', 'Fests',\n",
       "       'Talks', 'Webinars', 'Courses'], dtype=object)"
      ]
     },
     "execution_count": 5,
     "metadata": {},
     "output_type": "execute_result"
    }
   ],
   "source": [
    "df.Event1.unique()"
   ]
  },
  {
   "cell_type": "code",
   "execution_count": 6,
   "metadata": {
    "run_control": {
     "marked": false
    }
   },
   "outputs": [
    {
     "data": {
      "text/html": [
       "<div>\n",
       "<style scoped>\n",
       "    .dataframe tbody tr th:only-of-type {\n",
       "        vertical-align: middle;\n",
       "    }\n",
       "\n",
       "    .dataframe tbody tr th {\n",
       "        vertical-align: top;\n",
       "    }\n",
       "\n",
       "    .dataframe thead th {\n",
       "        text-align: right;\n",
       "    }\n",
       "</style>\n",
       "<table border=\"1\" class=\"dataframe\">\n",
       "  <thead>\n",
       "    <tr style=\"text-align: right;\">\n",
       "      <th></th>\n",
       "      <th>Name</th>\n",
       "      <th>Domain</th>\n",
       "      <th>Event1</th>\n",
       "      <th>Event2</th>\n",
       "    </tr>\n",
       "  </thead>\n",
       "  <tbody>\n",
       "    <tr>\n",
       "      <th>0</th>\n",
       "      <td>1</td>\n",
       "      <td>1</td>\n",
       "      <td>1</td>\n",
       "      <td>9</td>\n",
       "    </tr>\n",
       "    <tr>\n",
       "      <th>1</th>\n",
       "      <td>2</td>\n",
       "      <td>2</td>\n",
       "      <td>2</td>\n",
       "      <td>12</td>\n",
       "    </tr>\n",
       "    <tr>\n",
       "      <th>2</th>\n",
       "      <td>3</td>\n",
       "      <td>3</td>\n",
       "      <td>3</td>\n",
       "      <td>10</td>\n",
       "    </tr>\n",
       "    <tr>\n",
       "      <th>3</th>\n",
       "      <td>4</td>\n",
       "      <td>4</td>\n",
       "      <td>4</td>\n",
       "      <td>12</td>\n",
       "    </tr>\n",
       "    <tr>\n",
       "      <th>4</th>\n",
       "      <td>5</td>\n",
       "      <td>5</td>\n",
       "      <td>5</td>\n",
       "      <td>2</td>\n",
       "    </tr>\n",
       "  </tbody>\n",
       "</table>\n",
       "</div>"
      ],
      "text/plain": [
       "   Name  Domain  Event1  Event2\n",
       "0     1       1       1       9\n",
       "1     2       2       2      12\n",
       "2     3       3       3      10\n",
       "3     4       4       4      12\n",
       "4     5       5       5       2"
      ]
     },
     "execution_count": 6,
     "metadata": {},
     "output_type": "execute_result"
    }
   ],
   "source": [
    "dmUQ = df.Domain.unique()\n",
    "dmNO=[]\n",
    "for x in range(1,len(dmUQ)+1):\n",
    "    dmNO.append(x)\n",
    "\n",
    "eeUQ = df.Event1.unique()\n",
    "eeNO=[]\n",
    "for x in range(1,len(eeUQ)+1):\n",
    "    eeNO.append(x)\n",
    "    \n",
    "pUQ = df.Name.unique()\n",
    "pNO=[]\n",
    "for x in range(1,len(pUQ)+1):\n",
    "    pNO.append(x)\n",
    "               \n",
    "df['Event1'].replace(eeUQ,eeNO,inplace=True)\n",
    "df['Event2'].replace(eeUQ,eeNO,inplace=True)\n",
    "df['Domain'].replace(dmUQ,dmNO,inplace=True)\n",
    "df['Name'].replace(pUQ,pNO,inplace=True)\n",
    "    \n",
    "tmp_df=df.copy()\n",
    "df.head()\n"
   ]
  },
  {
   "cell_type": "code",
   "execution_count": 7,
   "metadata": {},
   "outputs": [],
   "source": [
    "Domain_extract={\n",
    "    'MANAGEMENT':'Management',                                       'MANAGEMENTS':'Management',  \n",
    "    'C':'C',                                                         'CODEATHON':'Coding',\n",
    "    'CODING':'Coding',                                               'HARDWARES': 'Hardware',\n",
    "    'CLOUD COMPUTING': 'Cloud Computing',                            'NETWORKS':'Networking',\n",
    "    'SECURITY':'Security',                                           'NETWORK':'Networking',\n",
    "    'JAVASCRIPT':'JavaScript',                                       'BLOCKCHAINS': 'Blockchain',\n",
    "    'HARDWARE': 'Hardware',                                          'DEVELOPMENT PROCESS':'Development Processes',\n",
    "    'NETWORKING':'Networking',                                       'DATA ANALYSIS':'Data Science',\n",
    "    'WEB DEVELOPMENT':'Web Development',                             'SOFTWARE ARCHITECTURES':'Software Architecture',\n",
    "    'MACHINE LEARNING':'Machine Learning',                           'MOBILE APPLICATION':'Mobile Applications',\n",
    "    'HIGHER EDUCATION':'Higher Education',                           'ANDROID':'Mobile Applications',\n",
    "    'BLOCKCHAIN': 'Blockchain',                                      'SYSTEM ADMINISTRATIOR':'Other',\n",
    "    'IOT':'IoT',                                                     'BIG DATA':'Data Science',\n",
    "    'C++':'C++',                                                     'DATABASE':'Other',\n",
    "    'JAVA':'Java',                                                   'NETWORK ARCHITECT':'Networking',\n",
    "    'DEVELOPMENT PROCESSES':'Development Processes',                 'WEB DEVELOPER':'Web Development',\n",
    "    'ARTIFICIAL INTELLIGENCE':'Artificial Intelligence',             'INFORMATION SECURITY':'Security',\n",
    "    'DATA SCIENCE':'Data Science',                                   'CYBER SECURITY':'Security',\n",
    "    'PYTHON':'Python',                                               'QUERY':'Other',\n",
    "    'SOFTWARE ARCHITECTURE':'Software Architecture',                 'DATA SCIENTIST':'Data Science',\n",
    "    'FINANCE':'Finance',                                             'DATA MANAGER':'Other',\n",
    "    'OTHER': 'Other',                                                'IT AUDITOR':'Other',\n",
    "    'MOBILE APPLICATIONS':'Mobile Applications',                     'ETHICAL HACKING':'Other',\n",
    "    'SYSTEM ADMINISTRATION':'Other',                                 'ETHICAL HACKER':'Other',\n",
    "    'DATA ENGINEER':'Data Science',                                   'NETWORK ANALYST':'Networking', \n",
    "    'WIRELESS ENGINEER':'Networking',                                'NETWORK MANAGER':'Networking',    \n",
    "    'PROJECT MANAGER':'Development Processes',                       'PRODUCT MANAGER':'Development Processes', \n",
    "    'BUSINESS':'Finance',                                            'INVESTMENT':'Finance',  \n",
    "    'TERTIARY EDUCATION':'Higher Education',                         'MASTERS':'Higher Education',  \n",
    "    'A.I.':'Artificial Intelligence',                                'AI':'Artificial Intelligence',  \n",
    "    'M.L.':'Machine Learning',                                        'ML':'Machine Learning',\n",
    "    'CRYPTOCURRENCY':'Blockchain',                                   'CRYPTO CURRENCY':'Blockchain',\n",
    "    'SDLC':'Development Processes',                                  'AGILE':'Development Processes', \n",
    "    'SCRUM':'Development Processes',                                 'KANBAN':'Development Processes'  \n",
    "}\n"
   ]
  },
  {
   "cell_type": "code",
   "execution_count": 8,
   "metadata": {},
   "outputs": [],
   "source": [
    "Event_extract={\n",
    "    'JOBS':'Jobs',                  'CERTIFICATIONS':'Certifications',\n",
    "    'INTERNSHIPS':'Internships',    'COMPETITIONS':'Competitions',\n",
    "    'EXPOS':'Expos',                'WORKSHOPS':'Workshops',\n",
    "    'TRAININGS':'Trainings',        'SEMINARS':'Seminars',\n",
    "    'HACKATHONS':'Hackathons',      'FESTS':'Fests',\n",
    "    'TALKS': 'Talks',               'WEBINARS':'Webinars',\n",
    "    'COURSES':'Courses',            'HACKATHON':'Hackathons'\n",
    "}"
   ]
  },
  {
   "cell_type": "code",
   "execution_count": 9,
   "metadata": {
    "run_control": {
     "marked": false
    }
   },
   "outputs": [
    {
     "name": "stdout",
     "output_type": "stream",
     "text": [
      "Enter number of events: 3\n",
      "Enter Event No.1 name: c seminars\n",
      "C SEMINARS\n",
      "Enter Event No.2 name: finance trainings\n",
      "FINANCE TRAININGS\n",
      "Enter Event No.3 name: machine fests learning\n",
      "MACHINE FESTS LEARNING\n",
      "['C SEMINARS', 'FINANCE TRAININGS', 'MACHINE FESTS LEARNING']\n"
     ]
    }
   ],
   "source": [
    "event_no = int(input('Enter number of events: '))\n",
    "event_list=[]\n",
    "for x in range(1,event_no+1):\n",
    "    event = (input(f'Enter Event No.{x} name: ')).upper()\n",
    "    event_list.append(event)\n",
    "    print(event)\n",
    "print(event_list)"
   ]
  },
  {
   "cell_type": "code",
   "execution_count": 10,
   "metadata": {},
   "outputs": [],
   "source": [
    "def event_splitter(x):\n",
    "    t = x.split(' ')\n",
    "    return t"
   ]
  },
  {
   "cell_type": "code",
   "execution_count": 11,
   "metadata": {},
   "outputs": [],
   "source": [
    "def dom_eve_extractor(t):\n",
    "    flag_domain = 0\n",
    "    flag_event = 0\n",
    "    DE= 'nil'\n",
    "    EE= 'nil'\n",
    "    for x in t:\n",
    "        try:\n",
    "            DE = Domain_extract[x]\n",
    "            flag_domain = 1\n",
    "        except:\n",
    "            pass\n",
    "        try:\n",
    "            EE = Event_extract[x]\n",
    "            flag_event = 1\n",
    "        except:\n",
    "            pass\n",
    "    \n",
    "        \n",
    "    if flag_domain == 0:\n",
    "        for x in t:\n",
    "            for y in t:\n",
    "                try:\n",
    "                    dummy = x+' '+y\n",
    "                    DE = Domain_extract[dummy]\n",
    "                except:\n",
    "                    pass\n",
    "    \n",
    "    if flag_event == 0:\n",
    "        for x in t:\n",
    "            for y in t:\n",
    "                try:\n",
    "                    dummy = x+' '+y\n",
    "                    EE = Event_extract[dummy]\n",
    "                except:\n",
    "                    pass      \n",
    "                \n",
    "    print(f'Domain: {DE}')\n",
    "    print(f'Event: {EE}')\n",
    "    return DE, EE\n"
   ]
  },
  {
   "cell_type": "markdown",
   "metadata": {},
   "source": [
    "## Training with Event 1"
   ]
  },
  {
   "cell_type": "code",
   "execution_count": 25,
   "metadata": {
    "run_control": {
     "marked": false
    }
   },
   "outputs": [],
   "source": [
    "def traineventone(tmp_df,printscoreone):\n",
    "    x_train = tmp_df[['Event1','Domain']]\n",
    "    y_train = tmp_df['Name']\n",
    "    temp_Event1=[]\n",
    "    \n",
    "    clf = SVC(kernel='linear')\n",
    "    clf.fit(x_train,y_train)\n",
    "    \n",
    "    y_pred = clf.predict(x_train)\n",
    "\n",
    "    def p1():\n",
    "        for x,y in zip(eeNO,eeUQ):\n",
    "            if EE == y:\n",
    "                req_ENO = x\n",
    "        for x,y in zip(dmNO,dmUQ):\n",
    "            if DE == y:\n",
    "                req_DNO = x\n",
    "        def p2(req_ENO,req_DNO):\n",
    "            x_new=[[req_ENO,req_DNO]]\n",
    "    \n",
    "            y_pred = clf.predict(x_new)\n",
    "            print(y_pred)\n",
    "            for x,y in zip(pNO,pUQ):\n",
    "                if x==y_pred:\n",
    "                    print(y)\n",
    "        p2(req_ENO,req_DNO)\n",
    "    p1()"
   ]
  },
  {
   "cell_type": "markdown",
   "metadata": {},
   "source": [
    "## With Event 2"
   ]
  },
  {
   "cell_type": "code",
   "execution_count": 26,
   "metadata": {},
   "outputs": [],
   "source": [
    "def traineventtwo(tmp_df,printscoretwo):\n",
    "    x_train = df[['Event2','Domain']]\n",
    "    y_train = df['Name']\n",
    "    temp_Event2=[]\n",
    "\n",
    "\n",
    "    clf = SVC(kernel='linear')\n",
    "    clf.fit(x_train,y_train)\n",
    "    y_pred = clf.predict(x_train)\n",
    "    #print(f'Model accuracy score: {accuracy_score(y_train,y_pred)}')\n",
    "    def d1():\n",
    "        for x,y in zip(eeNO,eeUQ):\n",
    "            if EE == y:\n",
    "                req_ENO = x\n",
    "        for x,y in zip(dmNO,dmUQ):\n",
    "            if DE == y:\n",
    "                req_DNO = x\n",
    "        def d2(req_ENO,req_DNO):\n",
    "            x_new=[[req_ENO,req_DNO]]\n",
    "\n",
    "            y_pred = clf.predict(x_new)\n",
    "            print(y_pred)\n",
    "            for x,y in zip(pNO,pUQ):\n",
    "                if x==y_pred:\n",
    "                    print(y)\n",
    "        d2(req_ENO,req_DNO)\n",
    "    d1()"
   ]
  },
  {
   "cell_type": "code",
   "execution_count": 27,
   "metadata": {},
   "outputs": [
    {
     "name": "stdout",
     "output_type": "stream",
     "text": [
      "Domain: C\n",
      "Event: Seminars\n",
      "[183]\n",
      "Damon Lane\n",
      "[60]\n",
      "Christopher Hernandez\n",
      "Domain: Finance\n",
      "Event: Trainings\n",
      "[152]\n",
      "Russell Hall\n",
      "[178]\n",
      "Andre Mcclure\n",
      "Domain: Machine Learning\n",
      "Event: Fests\n",
      "[50]\n",
      "Angela Hall\n",
      "[143]\n",
      "Stacy Jones\n"
     ]
    }
   ],
   "source": [
    "words2num_flag = 0\n",
    "for x in event_list:\n",
    "    t = event_splitter(x)\n",
    "    DE, EE= dom_eve_extractor(t)\n",
    "    traineventone(tmp_df,printscoreone)\n",
    "    traineventtwo(tmp_df,printscoretwo)"
   ]
  },
  {
   "cell_type": "code",
   "execution_count": null,
   "metadata": {},
   "outputs": [],
   "source": [
    "print(event_list)"
   ]
  },
  {
   "cell_type": "code",
   "execution_count": null,
   "metadata": {},
   "outputs": [],
   "source": []
  },
  {
   "cell_type": "code",
   "execution_count": null,
   "metadata": {},
   "outputs": [],
   "source": []
  }
 ],
 "metadata": {
  "gist": {
   "data": {
    "description": "PythonProjects/Cloud Counselage/GOD.ipynb",
    "public": false
   },
   "id": ""
  },
  "kernelspec": {
   "display_name": "Python 3",
   "language": "python",
   "name": "python3"
  },
  "language_info": {
   "codemirror_mode": {
    "name": "ipython",
    "version": 3
   },
   "file_extension": ".py",
   "mimetype": "text/x-python",
   "name": "python",
   "nbconvert_exporter": "python",
   "pygments_lexer": "ipython3",
   "version": "3.6.5"
  }
 },
 "nbformat": 4,
 "nbformat_minor": 4
}
