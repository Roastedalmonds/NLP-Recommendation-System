{
 "cells": [
  {
   "cell_type": "code",
   "execution_count": 1,
   "metadata": {
    "run_control": {
     "marked": false
    }
   },
   "outputs": [],
   "source": [
    "import pandas as pd\n",
    "import openpyxl\n",
    "from pandas import DataFrame\n",
    "from sklearn import tree\n",
    "from sklearn.metrics import accuracy_score"
   ]
  },
  {
   "cell_type": "code",
   "execution_count": 2,
   "metadata": {
    "run_control": {
     "marked": false
    }
   },
   "outputs": [],
   "source": [
    "printscoreone=0\n",
    "printscoretwo=0\n",
    "name_list=[]\n",
    "temp_name_list=[]"
   ]
  },
  {
   "cell_type": "code",
   "execution_count": 3,
   "metadata": {
    "run_control": {
     "marked": false
    }
   },
   "outputs": [
    {
     "data": {
      "text/html": [
       "<div>\n",
       "<style scoped>\n",
       "    .dataframe tbody tr th:only-of-type {\n",
       "        vertical-align: middle;\n",
       "    }\n",
       "\n",
       "    .dataframe tbody tr th {\n",
       "        vertical-align: top;\n",
       "    }\n",
       "\n",
       "    .dataframe thead th {\n",
       "        text-align: right;\n",
       "    }\n",
       "</style>\n",
       "<table border=\"1\" class=\"dataframe\">\n",
       "  <thead>\n",
       "    <tr style=\"text-align: right;\">\n",
       "      <th></th>\n",
       "      <th>Name</th>\n",
       "      <th>Domain</th>\n",
       "      <th>Event1</th>\n",
       "      <th>Event2</th>\n",
       "    </tr>\n",
       "  </thead>\n",
       "  <tbody>\n",
       "    <tr>\n",
       "      <th>0</th>\n",
       "      <td>Bryan Brock</td>\n",
       "      <td>Management</td>\n",
       "      <td>Jobs</td>\n",
       "      <td>Hackathons</td>\n",
       "    </tr>\n",
       "    <tr>\n",
       "      <th>1</th>\n",
       "      <td>Joseph Sullivan</td>\n",
       "      <td>Coding</td>\n",
       "      <td>Certifications</td>\n",
       "      <td>Webinars</td>\n",
       "    </tr>\n",
       "    <tr>\n",
       "      <th>2</th>\n",
       "      <td>Sherri Dawson</td>\n",
       "      <td>Security</td>\n",
       "      <td>Internships</td>\n",
       "      <td>Fests</td>\n",
       "    </tr>\n",
       "    <tr>\n",
       "      <th>3</th>\n",
       "      <td>Dustin Ferguson</td>\n",
       "      <td>Hardware</td>\n",
       "      <td>Competitions</td>\n",
       "      <td>Webinars</td>\n",
       "    </tr>\n",
       "    <tr>\n",
       "      <th>4</th>\n",
       "      <td>Kayla Young</td>\n",
       "      <td>Web Development</td>\n",
       "      <td>Expos</td>\n",
       "      <td>Certifications</td>\n",
       "    </tr>\n",
       "  </tbody>\n",
       "</table>\n",
       "</div>"
      ],
      "text/plain": [
       "              Name           Domain          Event1          Event2\n",
       "0      Bryan Brock       Management            Jobs      Hackathons\n",
       "1  Joseph Sullivan           Coding  Certifications        Webinars\n",
       "2    Sherri Dawson         Security     Internships           Fests\n",
       "3  Dustin Ferguson         Hardware    Competitions        Webinars\n",
       "4      Kayla Young  Web Development           Expos  Certifications"
      ]
     },
     "execution_count": 3,
     "metadata": {},
     "output_type": "execute_result"
    }
   ],
   "source": [
    "df = pd.read_csv('D:\\\\Cloud Counselage\\\\Data.csv')\n",
    "df.head()"
   ]
  },
  {
   "cell_type": "code",
   "execution_count": 4,
   "metadata": {
    "run_control": {
     "marked": false
    }
   },
   "outputs": [
    {
     "data": {
      "text/html": [
       "<div>\n",
       "<style scoped>\n",
       "    .dataframe tbody tr th:only-of-type {\n",
       "        vertical-align: middle;\n",
       "    }\n",
       "\n",
       "    .dataframe tbody tr th {\n",
       "        vertical-align: top;\n",
       "    }\n",
       "\n",
       "    .dataframe thead th {\n",
       "        text-align: right;\n",
       "    }\n",
       "</style>\n",
       "<table border=\"1\" class=\"dataframe\">\n",
       "  <thead>\n",
       "    <tr style=\"text-align: right;\">\n",
       "      <th></th>\n",
       "      <th>Name</th>\n",
       "      <th>Domain</th>\n",
       "      <th>Event1</th>\n",
       "      <th>Event2</th>\n",
       "    </tr>\n",
       "  </thead>\n",
       "  <tbody>\n",
       "    <tr>\n",
       "      <th>0</th>\n",
       "      <td>1</td>\n",
       "      <td>1</td>\n",
       "      <td>1</td>\n",
       "      <td>9</td>\n",
       "    </tr>\n",
       "    <tr>\n",
       "      <th>1</th>\n",
       "      <td>2</td>\n",
       "      <td>2</td>\n",
       "      <td>2</td>\n",
       "      <td>12</td>\n",
       "    </tr>\n",
       "    <tr>\n",
       "      <th>2</th>\n",
       "      <td>3</td>\n",
       "      <td>3</td>\n",
       "      <td>3</td>\n",
       "      <td>10</td>\n",
       "    </tr>\n",
       "    <tr>\n",
       "      <th>3</th>\n",
       "      <td>4</td>\n",
       "      <td>4</td>\n",
       "      <td>4</td>\n",
       "      <td>12</td>\n",
       "    </tr>\n",
       "    <tr>\n",
       "      <th>4</th>\n",
       "      <td>5</td>\n",
       "      <td>5</td>\n",
       "      <td>5</td>\n",
       "      <td>2</td>\n",
       "    </tr>\n",
       "  </tbody>\n",
       "</table>\n",
       "</div>"
      ],
      "text/plain": [
       "   Name  Domain  Event1  Event2\n",
       "0     1       1       1       9\n",
       "1     2       2       2      12\n",
       "2     3       3       3      10\n",
       "3     4       4       4      12\n",
       "4     5       5       5       2"
      ]
     },
     "execution_count": 4,
     "metadata": {},
     "output_type": "execute_result"
    }
   ],
   "source": [
    "dmUQ = df.Domain.unique()\n",
    "dmNO=[]\n",
    "[dmNO.append(x) for x in range(1,len(dmUQ)+1)]    \n",
    "\n",
    "eeUQ = df.Event1.unique()\n",
    "eeNO=[]\n",
    "[eeNO.append(x) for x in range(1,len(eeUQ)+1)]\n",
    "    \n",
    "    \n",
    "pUQ = df.Name.unique()\n",
    "pNO=[]\n",
    "[pNO.append(x) for x in range(1,len(pUQ)+1)]\n",
    "               \n",
    "df['Event1'].replace(eeUQ,eeNO,inplace=True)\n",
    "df['Event2'].replace(eeUQ,eeNO,inplace=True)\n",
    "df['Domain'].replace(dmUQ,dmNO,inplace=True)\n",
    "df['Name'].replace(pUQ,pNO,inplace=True)\n",
    "    \n",
    "tmp_df=df.copy()\n",
    "df.head()"
   ]
  },
  {
   "cell_type": "code",
   "execution_count": 5,
   "metadata": {
    "editable": false,
    "run_control": {
     "marked": false
    }
   },
   "outputs": [],
   "source": [
    "Domain_extract={\n",
    "    'MANAGEMENT':'Management',                                       'MANAGEMENTS':'Management',  \n",
    "    'C':'C',                                                         'CODEATHON':'Coding',\n",
    "    'CODING':'Coding',                                               'HARDWARES': 'Hardware',\n",
    "    'CLOUD COMPUTING': 'Cloud Computing',                            'NETWORKS':'Networking',\n",
    "    'SECURITY':'Security',                                           'NETWORK':'Networking',\n",
    "    'JAVASCRIPT':'JavaScript',                                       'BLOCKCHAINS': 'Blockchain',\n",
    "    'HARDWARE': 'Hardware',                                          'DEVELOPMENT PROCESS':'Development Processes',\n",
    "    'NETWORKING':'Networking',                                       'DATA ANALYSIS':'Data Science',\n",
    "    'WEB DEVELOPMENT':'Web Development',                             'SOFTWARE ARCHITECTURES':'Software Architecture',\n",
    "    'MACHINE LEARNING':'Machine Learning',                           'MOBILE APPLICATION':'Mobile Applications',\n",
    "    'HIGHER EDUCATION':'Higher Education',                           'ANDROID':'Mobile Applications',\n",
    "    'BLOCKCHAIN': 'Blockchain',                                      'SYSTEM ADMINISTRATIOR':'Other',\n",
    "    'IOT':'IoT',                                                     'BIG DATA':'Data Science',\n",
    "    'C++':'C++',                                                     'DATABASE':'Other',\n",
    "    'JAVA':'Java',                                                   'NETWORK ARCHITECT':'Networking',\n",
    "    'DEVELOPMENT PROCESSES':'Development Processes',                 'WEB DEVELOPER':'Web Development',\n",
    "    'ARTIFICIAL INTELLIGENCE':'Artificial Intelligence',             'INFORMATION SECURITY':'Security',\n",
    "    'DATA SCIENCE':'Data Science',                                   'CYBER SECURITY':'Security',\n",
    "    'PYTHON':'Python',                                               'QUERY':'Other',\n",
    "    'SOFTWARE ARCHITECTURE':'Software Architecture',                 'DATA SCIENTIST':'Data Science',\n",
    "    'FINANCE':'Finance',                                             'DATA MANAGER':'Other',\n",
    "    'OTHER': 'Other',                                                'IT AUDITOR':'Other',\n",
    "    'MOBILE APPLICATIONS':'Mobile Applications',                     'ETHICAL HACKING':'Other',\n",
    "    'SYSTEM ADMINISTRATION':'Other',                                 'ETHICAL HACKER':'Other',\n",
    "    'DATA ENGINEER':'Data Science',                                   'NETWORK ANALYST':'Networking', \n",
    "    'WIRELESS ENGINEER':'Networking',                                'NETWORK MANAGER':'Networking',    \n",
    "    'PROJECT MANAGER':'Development Processes',                       'PRODUCT MANAGER':'Development Processes', \n",
    "    'BUSINESS':'Finance',                                            'INVESTMENT':'Finance',  \n",
    "    'TERTIARY EDUCATION':'Higher Education',                         'MASTERS':'Higher Education',  \n",
    "    'A.I.':'Artificial Intelligence',                                'AI':'Artificial Intelligence',  \n",
    "    'M.L.':'Machine Learning',                                       'ML':'Machine Learning',\n",
    "    'DL' : 'Machine Learning',                                       'DEEP LEARNING':'Machine Learning',\n",
    "    'SDLC':'Development Processes',                                  'AGILE':'Development Processes', \n",
    "    'SCRUM':'Development Processes',                                 'KANBAN':'Development Processes'  \n",
    "}\n"
   ]
  },
  {
   "cell_type": "code",
   "execution_count": 6,
   "metadata": {
    "editable": false,
    "run_control": {
     "marked": false
    }
   },
   "outputs": [],
   "source": [
    "Event_extract={\n",
    "    'JOBS':'Jobs',                  'CERTIFICATIONS':'Certifications',\n",
    "    'JOB' : 'Jobs',                 'CERTIFICATION' :'Certifications',\n",
    "    'INTERNSHIP':'Internships',     'COMPETITION':'Competitions',\n",
    "    'INTERNSHIPS':'Internships',    'COMPETITIONS':'Competitions',\n",
    "    'EXPO':'Expos',                 'WORKSHOP':'Workshops',\n",
    "    'EXPOS':'Expos',                'WORKSHOPS':'Workshops',\n",
    "    'TRAINING':'Trainings',         'SEMINAR':'Seminars',\n",
    "    'TRAININGS':'Trainings',        'SEMINARS':'Seminars',\n",
    "    'HACKATHON':'Hackathons',       'FEST':'Fests',\n",
    "    'HACKATHONS':'Hackathons',      'FESTS':'Fests',\n",
    "    'TALK': 'Talks',                'WEBINAR':'Webinars',\n",
    "    'TALKS': 'Talks',               'WEBINARS':'Webinars',\n",
    "    'COURSE':'Courses',             'HACKATHON':'Hackathons',\n",
    "    'COURSES':'Courses',            'HACKATHONs':'Hackathons',\n",
    "    'CODEATHON':'Hackathons',\n",
    "}"
   ]
  },
  {
   "cell_type": "code",
   "execution_count": 7,
   "metadata": {
    "run_control": {
     "marked": false
    }
   },
   "outputs": [
    {
     "name": "stdout",
     "output_type": "stream",
     "text": [
      "Enter number of events: 2\n",
      "Enter Event No.1 name: Coding hackathon in maumbai by iit\n",
      ">>>CODING HACKATHON IN MAUMBAI BY IIT\n",
      "Enter Event No.2 name: ibm finance seminars\n",
      ">>>IBM FINANCE SEMINARS\n",
      "['CODING HACKATHON IN MAUMBAI BY IIT', 'IBM FINANCE SEMINARS']\n"
     ]
    }
   ],
   "source": [
    "c=0\n",
    "event_list=[]\n",
    "\n",
    "while(c==0):\n",
    "    try:\n",
    "        event_no = int(input('Enter number of events: '))\n",
    "        c=1\n",
    "    except:\n",
    "        print('ENTER A NUMBER!')\n",
    "        \n",
    "for x in range(1,event_no+1):\n",
    "    event = (input(f'Enter Event No.{x} name: ')).upper()\n",
    "    event_list.append(event)\n",
    "    print(f'>>>{event}')\n",
    "print(event_list)"
   ]
  },
  {
   "cell_type": "code",
   "execution_count": 8,
   "metadata": {
    "run_control": {
     "marked": false
    }
   },
   "outputs": [],
   "source": [
    "def event_splitter(x):\n",
    "    t = x.split(' ')\n",
    "    return t"
   ]
  },
  {
   "cell_type": "code",
   "execution_count": 9,
   "metadata": {
    "run_control": {
     "marked": false
    }
   },
   "outputs": [],
   "source": [
    "def dom_eve_extractor(t):\n",
    "    flag_domain = 0\n",
    "    flag_event = 0\n",
    "    flag_domain2 = 0\n",
    "    flag_event2 = 0\n",
    "    DE= []\n",
    "    EE= []\n",
    "    for x in t:\n",
    "        try:\n",
    "            DE.append(Domain_extract[x])\n",
    "            flag_domain = 1\n",
    "            flag_domain2 = 1\n",
    "        except:\n",
    "            pass\n",
    "        try:\n",
    "            EE.append(Event_extract[x])\n",
    "            flag_event = 1\n",
    "            flag_event2 = 1\n",
    "        except:\n",
    "            pass\n",
    "    \n",
    "        \n",
    "    if flag_domain == 0:\n",
    "        for x in t:\n",
    "            for y in t:\n",
    "                try:\n",
    "                    dummy = x+' '+y\n",
    "                    DE.append(Domain_extract[dummy])\n",
    "                    flag_domain2 = 1\n",
    "                except:\n",
    "                    pass\n",
    "    \n",
    "    if flag_event == 0:\n",
    "        for x in t:\n",
    "            for y in t:\n",
    "                try:\n",
    "                    dummy = x+' '+y\n",
    "                    EE.append(Event_extract[dummy])\n",
    "                    flag_event2 = 1\n",
    "                except:\n",
    "                    pass   \n",
    "                \n",
    "    if (flag_domain2 == 0):\n",
    "        DE.append('Other') \n",
    "        \n",
    "                \n",
    "    print(f'***Domain: {DE}***')\n",
    "    print(f'***Event: {EE}***')\n",
    "    return DE, EE\n"
   ]
  },
  {
   "cell_type": "markdown",
   "metadata": {},
   "source": [
    "## Training with Event 1"
   ]
  },
  {
   "cell_type": "code",
   "execution_count": 10,
   "metadata": {
    "run_control": {
     "marked": false
    }
   },
   "outputs": [],
   "source": [
    "def traineventone(tmp_df,printscoreone):\n",
    "    x_train = tmp_df[['Event1','Domain']]\n",
    "    y_train = tmp_df['Name']\n",
    "    req_ENO =[]\n",
    "    req_DNO =[]\n",
    "    clf = tree.DecisionTreeClassifier()\n",
    "\n",
    "    clf.fit(x_train,y_train)\n",
    "    y_pred = clf.predict(x_train)\n",
    "    \n",
    "\n",
    "    def p1():\n",
    "        for x,y in zip(eeNO,eeUQ):\n",
    "            if y in EE:\n",
    "                req_ENO.append(x)  \n",
    "        for x,y in zip(dmNO,dmUQ):\n",
    "            if y in DE:\n",
    "                req_DNO.append(x) \n",
    "        def p2(req_ENO,req_DNO):\n",
    "            \n",
    "            if(len(req_ENO)>len(req_DNO)):\n",
    "                diff=len(req_ENO)-len(req_DNO)    \n",
    "                [req_DNO.append(req_DNO[-1]) for i in range(0,diff)]\n",
    "                \n",
    "            else:\n",
    "                diff=len(req_DNO)-len(req_ENO)\n",
    "                [req_ENO.append(req_ENO[-1]) for i in range(0,diff)]\n",
    "                \n",
    "            for e,d in zip(req_ENO,req_DNO):\n",
    "                x_new=[[e,d]]   \n",
    "                tmp = clf.predict_proba(x_new)\n",
    "                for index, prob in enumerate(tmp[0]):\n",
    "                    if prob>=0.5:\n",
    "                        for x,y in zip(pNO,pUQ):\n",
    "                            if x==index+1:\n",
    "                                print(y)\n",
    "                                temp_name_list.append(y)\n",
    "        p2(req_ENO,req_DNO)\n",
    "    p1()"
   ]
  },
  {
   "cell_type": "markdown",
   "metadata": {},
   "source": [
    "## With Event 2"
   ]
  },
  {
   "cell_type": "code",
   "execution_count": 11,
   "metadata": {
    "run_control": {
     "marked": false
    }
   },
   "outputs": [],
   "source": [
    "def traineventtwo(tmp_df,printscoretwo):\n",
    "    x_train = df[['Event2','Domain']]\n",
    "    y_train = df['Name']\n",
    "    req_ENO =[]\n",
    "    req_DNO =[]\n",
    "\n",
    "    clf = tree.DecisionTreeClassifier()\n",
    "    clf.fit(x_train,y_train)\n",
    "    \n",
    "    y_pred = clf.predict(x_train)\n",
    "    def d1():\n",
    "        for x,y in zip(eeNO,eeUQ):\n",
    "            if y in EE:\n",
    "                req_ENO.append(x)\n",
    "        for x,y in zip(dmNO,dmUQ):\n",
    "            if y in DE:\n",
    "                req_DNO.append(x)\n",
    "                \n",
    "        def d2(req_ENO,req_DNO):\n",
    "            \n",
    "            if(len(req_ENO)>len(req_DNO)):\n",
    "                diff=len(req_ENO)-len(req_DNO)\n",
    "                [req_DNO.append(req_DNO[-1]) for i in range(0,diff)]\n",
    "\n",
    "            else:\n",
    "                diff=len(req_DNO)-len(req_ENO)\n",
    "                [req_ENO.append(req_ENO[-1]) for i in range(0,diff)]\n",
    "\n",
    "            for e,d in zip(req_ENO,req_DNO):\n",
    "                x_new=[[e,d]]\n",
    "                yprob = clf.predict_proba(x_new)\n",
    "                y_pred = clf.predict(x_new)\n",
    "                for indx,prob in enumerate(yprob[0]):\n",
    "                    if prob>=0.5:\n",
    "                        for x,y in zip(pNO,pUQ):\n",
    "                            if x==indx+1:\n",
    "                                print(y)\n",
    "                                temp_name_list.append(y)\n",
    "        d2(req_ENO,req_DNO)\n",
    "    d1()"
   ]
  },
  {
   "cell_type": "code",
   "execution_count": 12,
   "metadata": {
    "run_control": {
     "marked": false
    },
    "scrolled": true
   },
   "outputs": [
    {
     "name": "stdout",
     "output_type": "stream",
     "text": [
      "***Domain: ['Coding']***\n",
      "***Event: ['Hackathons']***\n",
      "Corey Moran\n",
      "Laura Hurst\n",
      "***Domain: ['Finance']***\n",
      "***Event: ['Seminars']***\n",
      "William Rosales\n",
      "Andre Mcclure\n",
      "Jessica Silva\n"
     ]
    }
   ],
   "source": [
    "words2num_flag = 0\n",
    "\n",
    "for x in event_list:\n",
    "    t = event_splitter(x)\n",
    "    DE, EE= dom_eve_extractor(t)\n",
    "    traineventone(tmp_df,printscoreone)\n",
    "    traineventtwo(tmp_df,printscoretwo)\n",
    "    name_list.append(temp_name_list)\n",
    "    temp_name_list=[]"
   ]
  },
  {
   "cell_type": "code",
   "execution_count": 13,
   "metadata": {
    "run_control": {
     "marked": false
    }
   },
   "outputs": [
    {
     "data": {
      "text/plain": [
       "[['Corey Moran', 'Laura Hurst'],\n",
       " ['William Rosales', 'Andre Mcclure', 'Jessica Silva']]"
      ]
     },
     "execution_count": 13,
     "metadata": {},
     "output_type": "execute_result"
    }
   ],
   "source": [
    "name_list"
   ]
  },
  {
   "cell_type": "code",
   "execution_count": 14,
   "metadata": {},
   "outputs": [
    {
     "data": {
      "text/plain": [
       "['CODING HACKATHON IN MAUMBAI BY IIT', 'IBM FINANCE SEMINARS']"
      ]
     },
     "execution_count": 14,
     "metadata": {},
     "output_type": "execute_result"
    }
   ],
   "source": [
    "event_list"
   ]
  },
  {
   "cell_type": "code",
   "execution_count": 15,
   "metadata": {},
   "outputs": [],
   "source": [
    "dict1 = {}\n",
    "dict2 = {}"
   ]
  },
  {
   "cell_type": "code",
   "execution_count": 16,
   "metadata": {},
   "outputs": [],
   "source": [
    "for totalppl,event in zip(name_list,event_list):\n",
    "    for person in totalppl:\n",
    "        if person not in dict1:\n",
    "            dict1[person]=event\n",
    "        elif person in dict1:\n",
    "            dict2[person]=event"
   ]
  },
  {
   "cell_type": "code",
   "execution_count": 17,
   "metadata": {},
   "outputs": [
    {
     "data": {
      "text/plain": [
       "{'Corey Moran': 'CODING HACKATHON IN MAUMBAI BY IIT',\n",
       " 'Laura Hurst': 'CODING HACKATHON IN MAUMBAI BY IIT',\n",
       " 'William Rosales': 'IBM FINANCE SEMINARS',\n",
       " 'Andre Mcclure': 'IBM FINANCE SEMINARS',\n",
       " 'Jessica Silva': 'IBM FINANCE SEMINARS'}"
      ]
     },
     "execution_count": 17,
     "metadata": {},
     "output_type": "execute_result"
    }
   ],
   "source": [
    "dict1"
   ]
  },
  {
   "cell_type": "code",
   "execution_count": 18,
   "metadata": {},
   "outputs": [
    {
     "data": {
      "text/plain": [
       "{}"
      ]
     },
     "execution_count": 18,
     "metadata": {},
     "output_type": "execute_result"
    }
   ],
   "source": [
    "dict2"
   ]
  },
  {
   "cell_type": "code",
   "execution_count": 19,
   "metadata": {},
   "outputs": [
    {
     "data": {
      "text/html": [
       "<div>\n",
       "<style scoped>\n",
       "    .dataframe tbody tr th:only-of-type {\n",
       "        vertical-align: middle;\n",
       "    }\n",
       "\n",
       "    .dataframe tbody tr th {\n",
       "        vertical-align: top;\n",
       "    }\n",
       "\n",
       "    .dataframe thead th {\n",
       "        text-align: right;\n",
       "    }\n",
       "</style>\n",
       "<table border=\"1\" class=\"dataframe\">\n",
       "  <thead>\n",
       "    <tr style=\"text-align: right;\">\n",
       "      <th></th>\n",
       "      <th>Employee Name</th>\n",
       "      <th>Events</th>\n",
       "    </tr>\n",
       "  </thead>\n",
       "  <tbody>\n",
       "    <tr>\n",
       "      <th>0</th>\n",
       "      <td>Corey Moran</td>\n",
       "      <td>CODING HACKATHON IN MAUMBAI BY IIT</td>\n",
       "    </tr>\n",
       "    <tr>\n",
       "      <th>1</th>\n",
       "      <td>Laura Hurst</td>\n",
       "      <td>CODING HACKATHON IN MAUMBAI BY IIT</td>\n",
       "    </tr>\n",
       "    <tr>\n",
       "      <th>2</th>\n",
       "      <td>William Rosales</td>\n",
       "      <td>IBM FINANCE SEMINARS</td>\n",
       "    </tr>\n",
       "    <tr>\n",
       "      <th>3</th>\n",
       "      <td>Andre Mcclure</td>\n",
       "      <td>IBM FINANCE SEMINARS</td>\n",
       "    </tr>\n",
       "    <tr>\n",
       "      <th>4</th>\n",
       "      <td>Jessica Silva</td>\n",
       "      <td>IBM FINANCE SEMINARS</td>\n",
       "    </tr>\n",
       "  </tbody>\n",
       "</table>\n",
       "</div>"
      ],
      "text/plain": [
       "     Employee Name                              Events\n",
       "0      Corey Moran  CODING HACKATHON IN MAUMBAI BY IIT\n",
       "1      Laura Hurst  CODING HACKATHON IN MAUMBAI BY IIT\n",
       "2  William Rosales                IBM FINANCE SEMINARS\n",
       "3    Andre Mcclure                IBM FINANCE SEMINARS\n",
       "4    Jessica Silva                IBM FINANCE SEMINARS"
      ]
     },
     "execution_count": 19,
     "metadata": {},
     "output_type": "execute_result"
    }
   ],
   "source": [
    "dfx = DataFrame(list(dict1.items()),columns = ['Employee Name','Events']) \n",
    "dfx"
   ]
  },
  {
   "cell_type": "code",
   "execution_count": 20,
   "metadata": {},
   "outputs": [
    {
     "data": {
      "text/html": [
       "<div>\n",
       "<style scoped>\n",
       "    .dataframe tbody tr th:only-of-type {\n",
       "        vertical-align: middle;\n",
       "    }\n",
       "\n",
       "    .dataframe tbody tr th {\n",
       "        vertical-align: top;\n",
       "    }\n",
       "\n",
       "    .dataframe thead th {\n",
       "        text-align: right;\n",
       "    }\n",
       "</style>\n",
       "<table border=\"1\" class=\"dataframe\">\n",
       "  <thead>\n",
       "    <tr style=\"text-align: right;\">\n",
       "      <th></th>\n",
       "      <th>Employee Name</th>\n",
       "      <th>Events</th>\n",
       "    </tr>\n",
       "  </thead>\n",
       "  <tbody>\n",
       "    <tr>\n",
       "      <th>0</th>\n",
       "      <td>Corey Moran</td>\n",
       "      <td>CODING HACKATHON IN MAUMBAI BY IIT</td>\n",
       "    </tr>\n",
       "    <tr>\n",
       "      <th>1</th>\n",
       "      <td>Laura Hurst</td>\n",
       "      <td>CODING HACKATHON IN MAUMBAI BY IIT</td>\n",
       "    </tr>\n",
       "    <tr>\n",
       "      <th>2</th>\n",
       "      <td>William Rosales</td>\n",
       "      <td>IBM FINANCE SEMINARS</td>\n",
       "    </tr>\n",
       "    <tr>\n",
       "      <th>3</th>\n",
       "      <td>Andre Mcclure</td>\n",
       "      <td>IBM FINANCE SEMINARS</td>\n",
       "    </tr>\n",
       "    <tr>\n",
       "      <th>4</th>\n",
       "      <td>Jessica Silva</td>\n",
       "      <td>IBM FINANCE SEMINARS</td>\n",
       "    </tr>\n",
       "  </tbody>\n",
       "</table>\n",
       "</div>"
      ],
      "text/plain": [
       "     Employee Name                              Events\n",
       "0      Corey Moran  CODING HACKATHON IN MAUMBAI BY IIT\n",
       "1      Laura Hurst  CODING HACKATHON IN MAUMBAI BY IIT\n",
       "2  William Rosales                IBM FINANCE SEMINARS\n",
       "3    Andre Mcclure                IBM FINANCE SEMINARS\n",
       "4    Jessica Silva                IBM FINANCE SEMINARS"
      ]
     },
     "execution_count": 20,
     "metadata": {},
     "output_type": "execute_result"
    }
   ],
   "source": [
    "if bool(dict2):\n",
    "    dfy = DataFrame(list(dict2.items()),columns = ['Employee Name','Events'])\n",
    "    dfx = dfx.append(dfy).reset_index()\n",
    "    dfx.drop(columns='index')\n",
    "dfx"
   ]
  },
  {
   "cell_type": "code",
   "execution_count": 21,
   "metadata": {},
   "outputs": [],
   "source": [
    "dfx.to_excel('CloudEvents.xlsx', index = None, header=True)"
   ]
  },
  {
   "cell_type": "code",
   "execution_count": null,
   "metadata": {},
   "outputs": [],
   "source": []
  }
 ],
 "metadata": {
  "gist": {
   "data": {
    "description": "PythonProjects/Cloud Counselage/GOD.ipynb",
    "public": false
   },
   "id": ""
  },
  "kernelspec": {
   "display_name": "Python 3",
   "language": "python",
   "name": "python3"
  },
  "language_info": {
   "codemirror_mode": {
    "name": "ipython",
    "version": 3
   },
   "file_extension": ".py",
   "mimetype": "text/x-python",
   "name": "python",
   "nbconvert_exporter": "python",
   "pygments_lexer": "ipython3",
   "version": "3.6.5"
  }
 },
 "nbformat": 4,
 "nbformat_minor": 4
}
