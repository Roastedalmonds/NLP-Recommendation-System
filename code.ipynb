{
 "cells": [
  {
   "cell_type": "code",
   "execution_count": 33,
   "metadata": {},
   "outputs": [],
   "source": [
    "import pandas as pd\n",
    "import openpyxl\n",
    "from pandas import DataFrame\n",
    "from sklearn import tree\n",
    "import pickle\n",
    "import json\n",
    "import re\n",
    "import string\n",
    "from sklearn.feature_extraction.text import CountVectorizer\n",
    "from nltk.corpus import stopwords\n",
    "from sklearn import svm\n",
    "from sklearn.tree import DecisionTreeClassifier\n",
    "from sklearn.naive_bayes import GaussianNB\n",
    "from sklearn.ensemble import RandomForestClassifier"
   ]
  },
  {
   "cell_type": "code",
   "execution_count": 34,
   "metadata": {},
   "outputs": [],
   "source": [
    "input_df = pd.read_csv('Sample_Test_Data.csv')\n",
    "length = input_df.shape[0]"
   ]
  },
  {
   "cell_type": "code",
   "execution_count": 35,
   "metadata": {},
   "outputs": [],
   "source": [
    "f2 = open('dict_nlp_eve.pkl','rb')\n",
    "dict_nlp_eve = pickle.load(f2)\n",
    "f2.close()"
   ]
  },
  {
   "cell_type": "code",
   "execution_count": 36,
   "metadata": {},
   "outputs": [],
   "source": [
    "all_employees=[]"
   ]
  },
  {
   "cell_type": "code",
   "execution_count": 37,
   "metadata": {},
   "outputs": [],
   "source": [
    "df = pd.read_csv('Employee_Data.csv')\n",
    "copydf = df.copy()"
   ]
  },
  {
   "cell_type": "code",
   "execution_count": 38,
   "metadata": {},
   "outputs": [],
   "source": [
    "inst = open('EXTRACTOR_DOM.pkl','rb')                \n",
    "Domain_extract = pickle.load(inst)\n",
    "inst2 = open(\"Event_extract_file.pkl\",\"rb\")\n",
    "Event_extract = pickle.load(inst2)"
   ]
  },
  {
   "cell_type": "code",
   "execution_count": 39,
   "metadata": {},
   "outputs": [
    {
     "name": "stdout",
     "output_type": "stream",
     "text": [
      "['SMART INVESTING WEBINAR ON FIRDAY 16TH', 'HANDS-ON MICROPROCESSOR HARDWARE WORKSHOP', 'AGILE DEVELOPMENT PROCESS BY PROF.XYZ', 'LENOVO SOFTWARE DEVELOPMENT WEBINAR BY XYZ TUTORIALS!', 'AI ML SEMINAR BY DEEPLEARNING ON 1ST AUGUST', 'MICROSOFT AZURE SEMINAR', 'CODING COMPETITIONS ON C,C++ AND PYTHON']\n"
     ]
    }
   ],
   "source": [
    "event_list=[]\n",
    "for x in range(0,length):\n",
    "    event_list.append((input_df.iloc[x,0]).upper())\n",
    "print(event_list)"
   ]
  },
  {
   "cell_type": "code",
   "execution_count": 40,
   "metadata": {},
   "outputs": [],
   "source": [
    "def domain_extractor(t):\n",
    "    words=[]\n",
    "    flag_domain = 0\n",
    "    word = t.split(',')\n",
    "    for m in word:\n",
    "        tmp = m.split()\n",
    "        for x in tmp:\n",
    "            words.append(x)\n",
    "    DE= []\n",
    "    for x in words:\n",
    "        try:\n",
    "            DE.append(Domain_extract[x])\n",
    "            flag_domain = 1\n",
    "        except:\n",
    "            pass\n",
    "        \n",
    "    if True:\n",
    "        for x in words:\n",
    "            for y in words:\n",
    "                try:\n",
    "                    dummy = x+' '+y\n",
    "                    DE.append(Domain_extract[dummy])\n",
    "                except:\n",
    "                    pass  \n",
    "    DE = list(dict.fromkeys(DE))\n",
    "    return DE"
   ]
  },
  {
   "cell_type": "code",
   "execution_count": 41,
   "metadata": {},
   "outputs": [],
   "source": [
    "def domain_extractor_ml(t):\n",
    "    DE_ml=[]\n",
    "    nlp_df = DataFrame(list(Domain_extract.items()),columns = ['txt','Domain'])\n",
    "    vectorizer = CountVectorizer(stop_words='english',binary=True)\n",
    "    train_vectors = vectorizer.fit_transform(nlp_df.txt)\n",
    "    temp1 = vectorizer.transform([t])\n",
    "    \n",
    "    clf_svm = svm.SVC(kernel='rbf')\n",
    "    clf_svm.fit(train_vectors,nlp_df.Domain)\n",
    "    pred = clf_svm.predict(temp1)[0]\n",
    "    DE_ml.append(pred)\n",
    "  \n",
    "    clf_tree = DecisionTreeClassifier()\n",
    "    clf_tree.fit(train_vectors,nlp_df.Domain)\n",
    "    pred = clf_tree.predict(temp1)[0]\n",
    "    DE_ml.append(pred)\n",
    "    \n",
    "    clf_bay = GaussianNB()\n",
    "    clf_bay.fit(train_vectors.toarray(),nlp_df.Domain)\n",
    "    pred = clf_bay.predict(temp1.toarray())[0]\n",
    "    DE_ml.append(pred)\n",
    "    \n",
    "    DE_ml = list(dict.fromkeys(DE_ml))\n",
    "    return DE_ml"
   ]
  },
  {
   "cell_type": "code",
   "execution_count": 42,
   "metadata": {},
   "outputs": [],
   "source": [
    "def event_extractor(t):\n",
    "    words=t.split()\n",
    "    re_punc = re.compile('[%s]' % re.escape(string.punctuation))\n",
    "    words = [re_punc.sub('', x) for x in words]\n",
    "    EE= []\n",
    "    for x in words:\n",
    "        try:            \n",
    "            EE.append(Event_extract[x])\n",
    "        except:\n",
    "            pass\n",
    "\n",
    "    return EE"
   ]
  },
  {
   "cell_type": "code",
   "execution_count": 43,
   "metadata": {},
   "outputs": [],
   "source": [
    "def event_extractor_ml(t):\n",
    "    EE_ml=[]\n",
    "    nlp_df = DataFrame(list(dict_nlp_eve.items()),columns = ['Event','txt']) \n",
    "    vectorizer = CountVectorizer(stop_words='english',binary=True)\n",
    "    train_vectors = vectorizer.fit_transform(nlp_df.txt)\n",
    "    temp1 = vectorizer.transform([t])\n",
    "    \n",
    "    clf_bay = GaussianNB()\n",
    "    clf_bay.fit(train_vectors.toarray(),nlp_df.Event)\n",
    "    pred = clf_bay.predict(temp1.toarray())[0]\n",
    "    EE_ml.append(pred)\n",
    "    \n",
    "    return EE_ml"
   ]
  },
  {
   "cell_type": "code",
   "execution_count": 44,
   "metadata": {},
   "outputs": [],
   "source": [
    "def employees_event(DE,EE):\n",
    "    employees=[]\n",
    "    for x in DE:\n",
    "        temp1 = copydf[copydf['Domain']==x].copy()\n",
    "        for y in EE:\n",
    "            temp2 = temp1[temp1['Event1']==y].copy()\n",
    "            temp3 = temp1[temp1['Event2']==y].copy()\n",
    "            \n",
    "            try:\n",
    "                for z in temp2.Name:\n",
    "                    employees.append(z)\n",
    "                for z in temp3.Name:\n",
    "                    employees.append(z)\n",
    "            except:\n",
    "                pass\n",
    "\n",
    "    return employees"
   ]
  },
  {
   "cell_type": "code",
   "execution_count": 45,
   "metadata": {},
   "outputs": [],
   "source": [
    "\n",
    "for t in event_list:\n",
    "    DE = domain_extractor(t)\n",
    "    DE_ml = domain_extractor_ml(t)\n",
    "    EE =  event_extractor(t)\n",
    "    EE_ml = event_extractor_ml(t)\n",
    "    for x in DE_ml:\n",
    "        if x not in DE:\n",
    "            DE.append(x)\n",
    "    DE = list(dict.fromkeys(DE))\n",
    "    employees = employees_event(DE,EE)\n",
    "    if not employees:\n",
    "          employees.append('None')\n",
    "    all_employees.append(employees)"
   ]
  },
  {
   "cell_type": "code",
   "execution_count": 46,
   "metadata": {},
   "outputs": [],
   "source": [
    "dict1={}\n",
    "for totalppl,event in zip(all_employees,event_list):\n",
    "    strx = str(totalppl)[1:-1]\n",
    "    strxx = strx.replace(\"'\", \"\")\n",
    "    dict1[event]=strxx"
   ]
  },
  {
   "cell_type": "code",
   "execution_count": 47,
   "metadata": {},
   "outputs": [
    {
     "data": {
      "text/html": [
       "<div>\n",
       "<style scoped>\n",
       "    .dataframe tbody tr th:only-of-type {\n",
       "        vertical-align: middle;\n",
       "    }\n",
       "\n",
       "    .dataframe tbody tr th {\n",
       "        vertical-align: top;\n",
       "    }\n",
       "\n",
       "    .dataframe thead th {\n",
       "        text-align: right;\n",
       "    }\n",
       "</style>\n",
       "<table border=\"1\" class=\"dataframe\">\n",
       "  <thead>\n",
       "    <tr style=\"text-align: right;\">\n",
       "      <th></th>\n",
       "      <th>Event Name</th>\n",
       "      <th>Employee Names</th>\n",
       "    </tr>\n",
       "  </thead>\n",
       "  <tbody>\n",
       "    <tr>\n",
       "      <th>0</th>\n",
       "      <td>SMART INVESTING WEBINAR ON FIRDAY 16TH</td>\n",
       "      <td>Kenneth Martinez, Melissa Harris, Mrs. Brenda ...</td>\n",
       "    </tr>\n",
       "    <tr>\n",
       "      <th>1</th>\n",
       "      <td>HANDS-ON MICROPROCESSOR HARDWARE WORKSHOP</td>\n",
       "      <td>Philip Woods</td>\n",
       "    </tr>\n",
       "    <tr>\n",
       "      <th>2</th>\n",
       "      <td>AGILE DEVELOPMENT PROCESS BY PROF.XYZ</td>\n",
       "      <td>None</td>\n",
       "    </tr>\n",
       "    <tr>\n",
       "      <th>3</th>\n",
       "      <td>LENOVO SOFTWARE DEVELOPMENT WEBINAR BY XYZ TUT...</td>\n",
       "      <td>Katherine Gonzalez</td>\n",
       "    </tr>\n",
       "    <tr>\n",
       "      <th>4</th>\n",
       "      <td>AI ML SEMINAR BY DEEPLEARNING ON 1ST AUGUST</td>\n",
       "      <td>Jason Anthony, William Turner</td>\n",
       "    </tr>\n",
       "    <tr>\n",
       "      <th>5</th>\n",
       "      <td>MICROSOFT AZURE SEMINAR</td>\n",
       "      <td>Alyssa Davis, John Phillips</td>\n",
       "    </tr>\n",
       "    <tr>\n",
       "      <th>6</th>\n",
       "      <td>CODING COMPETITIONS ON C,C++ AND PYTHON</td>\n",
       "      <td>Bryan Mann, Kenneth Jackson, Gina Diaz, Beverl...</td>\n",
       "    </tr>\n",
       "  </tbody>\n",
       "</table>\n",
       "</div>"
      ],
      "text/plain": [
       "                                          Event Name  \\\n",
       "0             SMART INVESTING WEBINAR ON FIRDAY 16TH   \n",
       "1          HANDS-ON MICROPROCESSOR HARDWARE WORKSHOP   \n",
       "2              AGILE DEVELOPMENT PROCESS BY PROF.XYZ   \n",
       "3  LENOVO SOFTWARE DEVELOPMENT WEBINAR BY XYZ TUT...   \n",
       "4        AI ML SEMINAR BY DEEPLEARNING ON 1ST AUGUST   \n",
       "5                            MICROSOFT AZURE SEMINAR   \n",
       "6            CODING COMPETITIONS ON C,C++ AND PYTHON   \n",
       "\n",
       "                                      Employee Names  \n",
       "0  Kenneth Martinez, Melissa Harris, Mrs. Brenda ...  \n",
       "1                                       Philip Woods  \n",
       "2                                               None  \n",
       "3                                 Katherine Gonzalez  \n",
       "4                      Jason Anthony, William Turner  \n",
       "5                        Alyssa Davis, John Phillips  \n",
       "6  Bryan Mann, Kenneth Jackson, Gina Diaz, Beverl...  "
      ]
     },
     "execution_count": 47,
     "metadata": {},
     "output_type": "execute_result"
    }
   ],
   "source": [
    "dfx = DataFrame(list(dict1.items()),columns = ['Event Name','Employee Names']) \n",
    "dfx"
   ]
  },
  {
   "cell_type": "code",
   "execution_count": 32,
   "metadata": {},
   "outputs": [
    {
     "name": "stdout",
     "output_type": "stream",
     "text": [
      "Thank you for using Cloud events!\n",
      "Check Your Excel Sheet for recommendations\n"
     ]
    }
   ],
   "source": [
    "dfx.to_excel('output.xlsx', index = None, header=True)\n",
    "print('Thank you for using Cloud events!\\nCheck Your Excel Sheet for recommendations')"
   ]
  }
 ],
 "metadata": {
  "kernelspec": {
   "display_name": "Python 3",
   "language": "python",
   "name": "python3"
  },
  "language_info": {
   "codemirror_mode": {
    "name": "ipython",
    "version": 3
   },
   "file_extension": ".py",
   "mimetype": "text/x-python",
   "name": "python",
   "nbconvert_exporter": "python",
   "pygments_lexer": "ipython3",
   "version": "3.6.5"
  }
 },
 "nbformat": 4,
 "nbformat_minor": 4
}
