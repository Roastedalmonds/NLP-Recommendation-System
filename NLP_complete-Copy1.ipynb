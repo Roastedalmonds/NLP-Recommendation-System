{
 "cells": [
  {
   "cell_type": "code",
   "execution_count": 48,
   "metadata": {
    "run_control": {
     "marked": false
    }
   },
   "outputs": [],
   "source": [
    "import pandas as pd\n",
    "import openpyxl\n",
    "from pandas import DataFrame\n",
    "from nltk.corpus import stopwords\n",
    "from sklearn import tree\n",
    "import pickle\n",
    "import json\n",
    "import re\n",
    "import sklearn\n",
    "import string"
   ]
  },
  {
   "cell_type": "code",
   "execution_count": 2,
   "metadata": {
    "scrolled": true
   },
   "outputs": [
    {
     "name": "stdout",
     "output_type": "stream",
     "text": [
      "IMPORT INPUT CSV FILE IN CURRENT DIRECTORY AND NAME IT AS \"IP_Data.csv\"\n"
     ]
    }
   ],
   "source": [
    "print('IMPORT INPUT CSV FILE IN CURRENT DIRECTORY AND NAME IT AS \"IP_Data.csv\"')"
   ]
  },
  {
   "cell_type": "code",
   "execution_count": 3,
   "metadata": {},
   "outputs": [],
   "source": [
    "input_df = pd.read_csv('IP_Data.csv')\n",
    "length = input_df.shape[0]"
   ]
  },
  {
   "cell_type": "code",
   "execution_count": 4,
   "metadata": {},
   "outputs": [],
   "source": [
    "f1 = open('dict_nlp_dom.pkl','rb')\n",
    "dict_nlp_dom =pickle.load(f1)\n",
    "f1.close()\n",
    "f2 = open('dict_nlp_eve.pkl','rb')\n",
    "dict_nlp_eve = pickle.load(f2)\n",
    "f2.close()"
   ]
  },
  {
   "cell_type": "code",
   "execution_count": 5,
   "metadata": {
    "run_control": {
     "marked": false
    }
   },
   "outputs": [],
   "source": [
    "name_list=[]\n",
    "temp_name_list=[]\n",
    "direct=[]\n",
    "DE_direct=[]\n",
    "EE_direct=[]"
   ]
  },
  {
   "cell_type": "code",
   "execution_count": 6,
   "metadata": {
    "run_control": {
     "marked": false
    }
   },
   "outputs": [],
   "source": [
    "df = pd.read_csv('D:\\\\Cloud Counselage\\\\Data.csv')\n",
    "copydf = df.copy()"
   ]
  },
  {
   "cell_type": "code",
   "execution_count": 7,
   "metadata": {
    "run_control": {
     "marked": false
    }
   },
   "outputs": [],
   "source": [
    "dmUQ = df.Domain.unique()\n",
    "dmNO=[]\n",
    "[dmNO.append(x) for x in range(1,len(dmUQ)+1)]    \n",
    "\n",
    "eeUQ = df.Event1.unique()\n",
    "eeNO=[]\n",
    "[eeNO.append(x) for x in range(1,len(eeUQ)+1)]\n",
    "    \n",
    "    \n",
    "pUQ = df.Name.unique()\n",
    "pNO=[]\n",
    "[pNO.append(x) for x in range(1,len(pUQ)+1)]\n",
    "               \n",
    "df['Event1'].replace(eeUQ,eeNO,inplace=True)\n",
    "df['Event2'].replace(eeUQ,eeNO,inplace=True)\n",
    "df['Domain'].replace(dmUQ,dmNO,inplace=True)\n",
    "df['Name'].replace(pUQ,pNO,inplace=True)\n",
    "    \n",
    "tmp_df=df.copy()"
   ]
  },
  {
   "cell_type": "code",
   "execution_count": 8,
   "metadata": {},
   "outputs": [],
   "source": [
    "inst = open(\"Domain_extract_file.pkl\",\"rb\")\n",
    "Domain_extract = pickle.load(inst)\n",
    "inst2 = open(\"Event_extract_file.pkl\",\"rb\")\n",
    "Event_extract = pickle.load(inst2)"
   ]
  },
  {
   "cell_type": "code",
   "execution_count": 9,
   "metadata": {},
   "outputs": [
    {
     "name": "stdout",
     "output_type": "stream",
     "text": [
      "['HANDS-ON MICROPROCESSOR HARDWARE WORKSHOP', 'AGILE DEVELOPMENT PROCESS BY PROF.XYZ', 'LENOVO SOFTWARE DEVELOPMENT WEBINAR BY XYZ TUTORIALS!', 'AI ML SEMINAR BY DEEPLEARNING ON 1ST AUGUST', 'MICROSOFT AZURE SEMINAR']\n"
     ]
    }
   ],
   "source": [
    "event_list=[]\n",
    "for x in range(0,length):\n",
    "    event_list.append((input_df.iloc[x,0]).upper())\n",
    "print(event_list)"
   ]
  },
  {
   "cell_type": "code",
   "execution_count": 10,
   "metadata": {
    "run_control": {
     "marked": false
    }
   },
   "outputs": [],
   "source": [
    "def dom_eve_extractor(t):\n",
    "    flag_domain = 0\n",
    "    words = t.split()\n",
    "    \n",
    "    re_punc = re.compile('[%s]' % re.escape(string.punctuation))\n",
    "    words = [re_punc.sub('-', x) for x in words]\n",
    "    print(words)\n",
    "    words = [re_punc.sub('', x) for x in words]\n",
    "    print(words)\n",
    "\n",
    "    DE= []\n",
    "    DE_ml= []\n",
    "    for x in words:\n",
    "        try:\n",
    "            DE.append(Domain_extract[x])\n",
    "            flag_domain = 1\n",
    "        except:\n",
    "            pass\n",
    "    if flag_domain == 0:\n",
    "        for x in words:\n",
    "            for y in words:\n",
    "                try:\n",
    "                    dummy = x+' '+y\n",
    "                    DE.append(Domain_extract[dummy])\n",
    "                except:\n",
    "                    pass   \n",
    "                \n",
    " \n",
    "    nlp_df = DataFrame(list(dict_nlp_dom.items()),columns = ['Domain','txt']) \n",
    "    from sklearn.feature_extraction.text import CountVectorizer\n",
    "    from nltk.corpus import stopwords\n",
    "    vectorizer = CountVectorizer(stop_words='english',binary=True)\n",
    "    train_vectors = vectorizer.fit_transform(nlp_df.txt)\n",
    "    temp1 = vectorizer.transform([t])\n",
    "    \n",
    "    \n",
    "    from sklearn import svm\n",
    "    clf_svm = svm.SVC(kernel='rbf')\n",
    "    clf_svm.fit(train_vectors,nlp_df.Domain)\n",
    "    pred = clf_svm.predict(temp1)[0]\n",
    "    DE_ml.append(pred)\n",
    "    \n",
    "    clf_svm = svm.SVC(kernel='linear')\n",
    "    clf_svm.fit(train_vectors,nlp_df.Domain)\n",
    "    pred = clf_svm.predict(temp1)[0]\n",
    "    DE_ml.append(pred)\n",
    "    \n",
    "    from sklearn.tree import DecisionTreeClassifier\n",
    "    clf_tree = DecisionTreeClassifier()\n",
    "    clf_tree.fit(train_vectors,nlp_df.Domain)\n",
    "    pred = clf_tree.predict(temp1)[0]\n",
    "    DE_ml.append(pred)\n",
    "    \n",
    "    from sklearn.naive_bayes import GaussianNB\n",
    "    clf_bay = GaussianNB()\n",
    "    clf_bay.fit(train_vectors.toarray(),nlp_df.Domain)\n",
    "    pred = clf_bay.predict(temp1.toarray())[0]\n",
    "    DE_ml.append(pred)\n",
    "    \n",
    "    \n",
    "    from sklearn.ensemble import RandomForestClassifier\n",
    "    clf_RF = RandomForestClassifier()\n",
    "    clf_RF.fit(train_vectors,nlp_df.Domain)\n",
    "    pred = clf_RF.predict(temp1)[0]\n",
    "    DE_ml.append(pred)\n",
    "    \n",
    "    \n",
    "    for x in DE:\n",
    "        if x not in DE_ml:\n",
    "            DE_ml.append(x)\n",
    "    for x in DE_ml:\n",
    "        if x not in DE:\n",
    "            if (len(DE_ml)>(len(DE)+1)):\n",
    "                DE_ml.remove(x)\n",
    "    DE_ml = list(dict.fromkeys(DE_ml))\n",
    "    if (len(DE_ml) == 0):\n",
    "        DE_ml.append('Other') \n",
    "     \n",
    "    \n",
    "    return DE_ml,DE\n"
   ]
  },
  {
   "cell_type": "code",
   "execution_count": 11,
   "metadata": {},
   "outputs": [],
   "source": [
    "def eve_ext(t):\n",
    "    words=t.split()\n",
    "    re_punc = re.compile('[%s]' % re.escape(string.punctuation))\n",
    "    words = [re_punc.sub('', x) for x in words]\n",
    "    EE= []\n",
    "    EE_ml=[]\n",
    "    for x in words:\n",
    "        try:            \n",
    "            EE.append(Event_extract[x])\n",
    "        except:\n",
    "            pass\n",
    "        \n",
    "        \n",
    "    nlp_df = DataFrame(list(dict_nlp_eve.items()),columns = ['Event','txt']) \n",
    "    from sklearn.feature_extraction.text import CountVectorizer\n",
    "    from nltk.corpus import stopwords\n",
    "    vectorizer = CountVectorizer(stop_words='english',binary=True)\n",
    "    train_vectors = vectorizer.fit_transform(nlp_df.txt)\n",
    "    temp1 = vectorizer.transform([t])\n",
    "    \n",
    "    from sklearn import svm\n",
    "    clf_svm = svm.SVC(kernel='rbf')\n",
    "    clf_svm.fit(train_vectors,nlp_df.Event)\n",
    "    pred = clf_svm.predict(temp1)[0]\n",
    "    EE_ml.append(pred)\n",
    "    \n",
    "    clf_svm = svm.SVC(kernel='linear')\n",
    "    clf_svm.fit(train_vectors,nlp_df.Event)\n",
    "    pred = clf_svm.predict(temp1)[0]\n",
    "    EE_ml.append(pred)\n",
    "    \n",
    "    from sklearn.tree import DecisionTreeClassifier\n",
    "    clf_tree = DecisionTreeClassifier()\n",
    "    clf_tree.fit(train_vectors,nlp_df.Event)\n",
    "    pred = clf_tree.predict(temp1)[0]\n",
    "    EE_ml.append(pred)\n",
    "    \n",
    "    for x in EE:\n",
    "        if x not in EE_ml:\n",
    "            EE_ml.append(x)\n",
    "        \n",
    "    EE_ml = list(dict.fromkeys(EE_ml))\n",
    "    return EE_ml,EE"
   ]
  },
  {
   "cell_type": "markdown",
   "metadata": {},
   "source": [
    "## Training with Event 1"
   ]
  },
  {
   "cell_type": "code",
   "execution_count": 12,
   "metadata": {},
   "outputs": [],
   "source": [
    "def domain_event(DE,EE):\n",
    "    list_name=[]\n",
    "    temp_list_names=[]\n",
    "    for x in DE:\n",
    "        for y in EE:\n",
    "            tempcopy = copydf[copydf['Domain']==x].copy()\n",
    "            tempcopy1 = tempcopy[tempcopy['Event1']==y].copy()\n",
    "            tempcopy2 = tempcopy[tempcopy['Event2']==y].copy()\n",
    "            tempcopy3 = pd.concat([tempcopy1,tempcopy2])\n",
    "\n",
    "            \n",
    "            for name in tempcopy3.Name:\n",
    "                temp_list_names.append(name)\n",
    "    return temp_list_names"
   ]
  },
  {
   "cell_type": "code",
   "execution_count": 13,
   "metadata": {
    "run_control": {
     "marked": false
    },
    "scrolled": true
   },
   "outputs": [
    {
     "name": "stdout",
     "output_type": "stream",
     "text": [
      "['HANDS-ON', 'MICROPROCESSOR', 'HARDWARE', 'WORKSHOP']\n",
      "['HANDSON', 'MICROPROCESSOR', 'HARDWARE', 'WORKSHOP']\n",
      "['AGILE', 'DEVELOPMENT', 'PROCESS', 'BY', 'PROF-XYZ']\n",
      "['AGILE', 'DEVELOPMENT', 'PROCESS', 'BY', 'PROFXYZ']\n",
      "['LENOVO', 'SOFTWARE', 'DEVELOPMENT', 'WEBINAR', 'BY', 'XYZ', 'TUTORIALS-']\n",
      "['LENOVO', 'SOFTWARE', 'DEVELOPMENT', 'WEBINAR', 'BY', 'XYZ', 'TUTORIALS']\n",
      "['AI', 'ML', 'SEMINAR', 'BY', 'DEEPLEARNING', 'ON', '1ST', 'AUGUST']\n",
      "['AI', 'ML', 'SEMINAR', 'BY', 'DEEPLEARNING', 'ON', '1ST', 'AUGUST']\n",
      "['MICROSOFT', 'AZURE', 'SEMINAR']\n",
      "['MICROSOFT', 'AZURE', 'SEMINAR']\n"
     ]
    }
   ],
   "source": [
    "words2num_flag = 0\n",
    "\n",
    "for t in event_list:\n",
    "    DE,DE_direct = dom_eve_extractor(t)\n",
    "    EE,EE_direct = eve_ext(t)\n",
    "\n",
    "    direct_tmp = domain_event(DE_direct,EE_direct)\n",
    "    direct.append(direct_tmp)\n",
    "    if len(t)==0:\n",
    "        temp_name_list=['NONE']\n",
    "    name_list.append(temp_name_list)\n",
    "    temp_name_list=[]"
   ]
  },
  {
   "cell_type": "code",
   "execution_count": 30,
   "metadata": {},
   "outputs": [
    {
     "name": "stdout",
     "output_type": "stream",
     "text": [
      "[[], [], [], [], []]\n"
     ]
    }
   ],
   "source": [
    "print(name_list)"
   ]
  },
  {
   "cell_type": "code",
   "execution_count": 25,
   "metadata": {},
   "outputs": [],
   "source": [
    "dict1 = {}\n",
    "dict1_list=[]\n",
    "for totalppl,event in zip(name_list,event_list):\n",
    "    strxx = str(totalppl)[1:-1]\n",
    "    dict1[event]=strxx"
   ]
  },
  {
   "cell_type": "code",
   "execution_count": 26,
   "metadata": {},
   "outputs": [
    {
     "data": {
      "text/html": [
       "<div>\n",
       "<style scoped>\n",
       "    .dataframe tbody tr th:only-of-type {\n",
       "        vertical-align: middle;\n",
       "    }\n",
       "\n",
       "    .dataframe tbody tr th {\n",
       "        vertical-align: top;\n",
       "    }\n",
       "\n",
       "    .dataframe thead th {\n",
       "        text-align: right;\n",
       "    }\n",
       "</style>\n",
       "<table border=\"1\" class=\"dataframe\">\n",
       "  <thead>\n",
       "    <tr style=\"text-align: right;\">\n",
       "      <th></th>\n",
       "      <th>Events</th>\n",
       "      <th>Employee Name</th>\n",
       "    </tr>\n",
       "  </thead>\n",
       "  <tbody>\n",
       "    <tr>\n",
       "      <th>0</th>\n",
       "      <td>HANDS-ON MICROPROCESSOR HARDWARE WORKSHOP</td>\n",
       "      <td>'Philip Woods', 'Russell Vargas', 'Edward Hamp...</td>\n",
       "    </tr>\n",
       "    <tr>\n",
       "      <th>1</th>\n",
       "      <td>AGILE DEVELOPMENT PROCESS BY PROF.XYZ</td>\n",
       "      <td>'Jennifer Thompson', 'Kristen Mitchell', 'Will...</td>\n",
       "    </tr>\n",
       "    <tr>\n",
       "      <th>2</th>\n",
       "      <td>LENOVO SOFTWARE DEVELOPMENT WEBINAR BY XYZ TUT...</td>\n",
       "      <td>'Jennifer Merritt', 'Robert Ramirez', 'David D...</td>\n",
       "    </tr>\n",
       "    <tr>\n",
       "      <th>3</th>\n",
       "      <td>AI ML SEMINAR BY DEEPLEARNING ON 1ST AUGUST</td>\n",
       "      <td>'Kristy Levine', 'Jasmine Brown', 'James Porte...</td>\n",
       "    </tr>\n",
       "    <tr>\n",
       "      <th>4</th>\n",
       "      <td>MICROSOFT AZURE SEMINAR</td>\n",
       "      <td>'Deborah Young', 'David Davis', 'Corey Beck', ...</td>\n",
       "    </tr>\n",
       "  </tbody>\n",
       "</table>\n",
       "</div>"
      ],
      "text/plain": [
       "                                              Events  \\\n",
       "0          HANDS-ON MICROPROCESSOR HARDWARE WORKSHOP   \n",
       "1              AGILE DEVELOPMENT PROCESS BY PROF.XYZ   \n",
       "2  LENOVO SOFTWARE DEVELOPMENT WEBINAR BY XYZ TUT...   \n",
       "3        AI ML SEMINAR BY DEEPLEARNING ON 1ST AUGUST   \n",
       "4                            MICROSOFT AZURE SEMINAR   \n",
       "\n",
       "                                       Employee Name  \n",
       "0  'Philip Woods', 'Russell Vargas', 'Edward Hamp...  \n",
       "1  'Jennifer Thompson', 'Kristen Mitchell', 'Will...  \n",
       "2  'Jennifer Merritt', 'Robert Ramirez', 'David D...  \n",
       "3  'Kristy Levine', 'Jasmine Brown', 'James Porte...  \n",
       "4  'Deborah Young', 'David Davis', 'Corey Beck', ...  "
      ]
     },
     "execution_count": 26,
     "metadata": {},
     "output_type": "execute_result"
    }
   ],
   "source": [
    "dfx = DataFrame(list(dict1.items()),columns = ['Events','Employee Name']) \n",
    "#dfx.drop(columns='index',inplace=True)\n",
    "dfx"
   ]
  },
  {
   "cell_type": "code",
   "execution_count": 96,
   "metadata": {},
   "outputs": [],
   "source": [
    "dfx.to_excel('CloudEvents.xlsx', index = None, header=True)"
   ]
  },
  {
   "cell_type": "code",
   "execution_count": null,
   "metadata": {},
   "outputs": [],
   "source": []
  },
  {
   "cell_type": "code",
   "execution_count": null,
   "metadata": {},
   "outputs": [],
   "source": []
  },
  {
   "cell_type": "code",
   "execution_count": 14,
   "metadata": {},
   "outputs": [],
   "source": [
    "f = open('dict_nlp_dom.pkl','rb')\n",
    "h1 = pickle.load(f)\n",
    "f.close()"
   ]
  },
  {
   "cell_type": "code",
   "execution_count": 34,
   "metadata": {},
   "outputs": [
    {
     "data": {
      "text/plain": [
       "{'Management': 'Management managing manager manager administration government',\n",
       " 'Coding': 'CODING code coder hackathon coding codeathon codes',\n",
       " 'Security': 'cyber security hack ethical hacker',\n",
       " 'Hardware': 'Hardware Processor computer storage memory battery graphics',\n",
       " 'Web Development': 'Web development HTML CSS websites design layout stack',\n",
       " 'Higher Education': 'education higher education graduate abroad study studies.',\n",
       " 'IoT': 'IoT  Internet of things',\n",
       " 'Artificial Intelligence': 'Artificial intelligence AI',\n",
       " 'Finance': 'Finance banking investment economic invest save earn',\n",
       " 'Mobile Applications': 'mobile application app android ios',\n",
       " 'Software Architecture': 'software architecture structure',\n",
       " 'Cloud Computing': 'Cloud computing AWS AZURE GOOGLE  Amazon Microsoft Azure',\n",
       " 'Networking': 'Networking  Network networks computer ports connect',\n",
       " 'Machine Learning': 'Machine learning ml',\n",
       " 'Blockchain': 'cryptocurrency Blockchain Block chain Bitcoin',\n",
       " 'Development Processes': ' Development software processes process SDLC agile',\n",
       " 'Data Science': ' data scientists science big IBM kaggle.'}"
      ]
     },
     "execution_count": 34,
     "metadata": {},
     "output_type": "execute_result"
    }
   ],
   "source": [
    "h1="
   ]
  },
  {
   "cell_type": "code",
   "execution_count": 28,
   "metadata": {},
   "outputs": [],
   "source": [
    "h2={'Management': 'Management managing manager manager administration government Management managing manager manager administration government Management managing manager manager administration government Management managing manager manager administration government Management managing manager manager administration government Management managing manager manager administration government Management managing manager manager administration government  Management managing manager manager administration government  Management managing manager manager administration government  Management managing manager manager administration government  Management managing manager manager administration government  Management managing manager manager administration government  Management managing manager manager administration government',\n",
    " 'Coding': 'CODING code coder hackathon coding codeathon codes CODING code coder hackathon coding codeathon codes CODING code coder hackathon coding codeathon codes CODING code coder hackathon coding codeathon codes CODING code coder hackathon coding codeathon codes CODING code coder hackathon coding codeathon codes CODING code coder hackathon coding codeathon codes CODING code coder hackathon coding codeathon codes CODING code coder hackathon coding codeathon codes CODING code coder hackathon coding codeathon codes CODING code coder hackathon coding codeathon codes CODING code coder hackathon coding codeathon codes CODING code coder hackathon coding codeathon codes CODING code coder hackathon coding codeathon codes CODING code coder hackathon coding codeathon codes CODING code coder hackathon coding codeathon codes CODING code coder hackathon coding codeathon codes CODING code coder hackathon coding codeathon codes',\n",
    " 'Security': 'cyber security hack ethical hacker cyber security hack ethical hacker cyber security hack ethical hacker cyber security hack ethical hacker cyber security hack ethical hacker cyber security hack ethical hacker cyber security hack ethical hacker cyber security hack ethical hacker cyber security hack ethical hacker cyber security hack ethical hacker cyber security hack ethical hacker security hack ethical hacker cyber security hack ethical hacker security hack ethical hacker cyber security hack ethical hacker security hack ethical hacker cyber security hack ethical hacker security hack ethical hacker cyber security hack ethical hacker security hack ethical hacker cyber security hack ethical hacker security hack ethical hacker cyber security hack ethical hacker security hack ethical hacker cyber security hack ethical hacker security hack ethical hacker cyber security hack ethical hacker security hack ethical hacker cyber security hack ethical hacker',\n",
    " 'Hardware': 'Hardware Processor computer storage memory battery graphics Hardware Processor computer storage memory battery graphicsHardware Processor computer storage memory battery graphics Hardware Processor computer storage memory battery graphics Hardware Processor computer storage memory battery graphics Hardware Processor computer storage memory battery graphics Hardware Processor computer storage memory battery graphics Hardware Processor computer storage memory battery graphics Hardware Processor computer storage memory battery graphics Hardware Processor computer storage memory battery graphics Hardware Processor computer storage memory battery graphics Hardware Processor computer storage memory battery graphics Hardware Processor computer storage memory battery graphics Hardware Processor computer storage memory battery graphics Hardware Processor computer storage memory battery graphics Hardware Processor computer storage memory battery graphics',\n",
    " 'Web Development': 'Web development HTML CSS websites design layout stack Web development HTML CSS websites design layout stack Web development HTML CSS websites design layout stack Web development HTML CSS websites design layout stack Web development HTML CSS websites design layout stack Web development HTML CSS websites design layout stack Web development HTML CSS websites design layout stack Web development HTML CSS websites design layout stack Web development HTML CSS websites design layout stack Web development HTML CSS websites design layout stack Web development HTML CSS websites design layout stack Web development HTML CSS websites design layout stack Web development HTML CSS websites design layout stack Web development HTML CSS websites design layout stack Web development HTML CSS websites design layout stack Web development HTML CSS websites design layout stack Web development HTML CSS websites design layout stack Web development HTML CSS websites design layout stack',\n",
    " 'Higher Education': 'education higher education graduate abroad study studies. education higher education graduate abroad study studies education higher education graduate abroad study studies education higher education graduate abroad study studies education higher education graduate abroad study studies education higher education graduate abroad study studies education higher education graduate abroad study studies education higher education graduate abroad study studies  abroad study studies education higher education graduate abroad study studies abroad study studies education higher education graduate abroad study studies abroad study studies education higher education graduate abroad study studies abroad study studies education higher education graduate abroad study studies abroad study studies education higher education graduate abroad study studies abroad study studies education higher education graduate abroad study studies abroad study studies education higher education graduate abroad study studies',\n",
    " 'IoT': 'IoT  Internet of things IoT  Internet of things IoT  Internet of things IoT  Internet of things IoT  Internet of things IoT  Internet of things IoT  Internet of things IoT  Internet of things IoT  Internet of things IoT  Internet of things IoT  Internet of things Internet of things IoT  Internet of things IoT  Internet of things Internet of things IoT  Internet of things IoT  Internet of things Internet of things IoT  Internet of things IoT  Internet of things Internet of things IoT  Internet of things IoT  Internet of things Internet of things IoT  Internet of things IoT  Internet of things Internet of things IoT  Internet of things IoT  Internet of things Internet of things IoT  Internet of things IoT  Internet of things Internet of things IoT  Internet of things IoT  Internet of things Internet of things IoT  Internet of things IoT  Internet of things Internet of things IoT  Internet of things IoT  Internet of things Internet of things IoT  Internet of things IoT  Internet of things Internet of things IoT  Internet of things IoT  Internet of things',\n",
    " 'Artificial Intelligence':  'AI  Artificial intelligence AI Artificial intelligence AI Artificial intelligence AI Artificial intelligence AI Artificial intelligence AI Artificial intelligence AI  Artificial intelligence AI Artificial intelligence  Artificial intelligence AI Artificial intelligence  Artificial intelligence AI Artificial intelligence  Artificial intelligence AI Artificial intelligence  Artificial intelligence AI Artificial intelligence  Artificial intelligence AI Artificial intelligence  Artificial intelligence AI Artificial intelligence  Artificial intelligence AI Artificial intelligence  Artificial intelligence AI Artificial intelligence  Artificial intelligence AI Artificial intelligence  Artificial intelligence AI Artificial intelligence Artificial intelligence AI Artificial intelligence  Artificial intelligence AI Artificial intelligence ',\n",
    " 'Finance': 'Finance banking investment economic invest save earn Finance banking investment economic invest save earn Finance banking investment economic invest save earn Finance banking investment economic invest save earnFinance banking investment economic invest save earnFinance banking investment economic invest save earn Finance banking investment economic invest save earn Finance banking investment economic invest save earn Finance banking investment economic invest save earn  Finance banking investment economic invest save earn Finance banking investment economic invest save earn Finance banking investment economic invest save earn Finance banking investment economic invest save earn Finance banking investment economic invest save earn Finance banking investment economic invest save earn Finance banking investment economic invest save earn Finance banking investment economic invest save earn Finance banking investment economic invest save earn Finance banking investment economic invest save earn Finance banking investment economic invest save earn Finance banking investment economic invest save earn Finance banking investment economic invest save earn Finance banking investment economic invest save earn Finance banking investment economic invest save earn Finance banking investment economic invest save earn',\n",
    " 'Mobile Applications': ' mobile application app android ios mobile application app android ios mobile application app android ios mobile application app android iosmobile application app android ios mobile application app android iosmobile application app android iosmobile application app android iosmobile application app android ios mobile application app android ios mobile application app android ios mobile application app android ios  mobile application app android ios mobile application app android ios mobile application app android ios mobile application app android ios mobile application app android ios mobile application app android ios mobile application app android ios mobile application app android ios mobile application app android ios mobile application app android ios mobile application app android ios mobile application app android ios mobile application app android ios mobile application app android ios mobile application app android ios mobile application app android ios mobile application app android ios mobile application app android ios mobile application app android ios mobile application app android ios mobile application app android ios mobile application app android ios mobile application app android ios mobile application app android ios mobile application app android ios mobile application app android ios',\n",
    " 'Software Architecture': 'software architecture structure software architecture structure software architecture structure software architecture structure software architecture structuresoftware architecture structuresoftware architecture structuresoftware architecture structuresoftware architecture structuresoftware architecture structure software architecture structure software architecture structure software architecture structure software architecture structure  software architecture structure software architecture structure  software architecture structure software architecture structure  software architecture structure software architecture structure  software architecture structure software architecture structure  software architecture structure software architecture structure  software architecture structure software architecture structure  software architecture structure software architecture structure  software architecture structure software architecture structure  software architecture structure software architecture structure  software architecture structure software architecture structure  software architecture structure software architecture structure  software architecture structure software architecture structure  software architecture structure software architecture structure ',\n",
    " 'Cloud Computing': ' Cloud computing AWS AZURE GOOGLE  Amazon Microsoft Azure Cloud computing AWS AZURE GOOGLE  Amazon Microsoft Azure Cloud computing AWS AZURE GOOGLE  Amazon Microsoft Azure Cloud computing AWS AZURE GOOGLE  Amazon Microsoft Azure Cloud computing AWS AZURE GOOGLE  Amazon Microsoft AzureCloud computing AWS AZURE GOOGLE  Amazon Microsoft Azure Cloud computing AWS AZURE GOOGLE  Amazon Microsoft Azure Cloud computing AWS AZURE GOOGLE  Amazon Microsoft Azure  Cloud computing AWS AZURE GOOGLE  Amazon Microsoft Azure Cloud computing AWS AZURE GOOGLE  Amazon Microsoft Azure Cloud computing AWS AZURE GOOGLE  Amazon Microsoft Azure Cloud computing AWS AZURE GOOGLE  Amazon Microsoft Azure Cloud computing AWS AZURE GOOGLE  Amazon Microsoft Azure Cloud computing AWS AZURE GOOGLE  Amazon Microsoft Azure Cloud computing AWS AZURE GOOGLE  Amazon Microsoft Azure Cloud computing AWS AZURE GOOGLE  Amazon Microsoft Azure Cloud computing AWS AZURE GOOGLE  Amazon Microsoft Azure Cloud computing AWS AZURE GOOGLE  Amazon Microsoft Azure Cloud computing AWS AZURE GOOGLE  Amazon Microsoft Azure Cloud computing AWS AZURE GOOGLE  Amazon Microsoft Azure Cloud computing AWS AZURE GOOGLE  Amazon Microsoft Azure Cloud computing AWS AZURE GOOGLE  Amazon Microsoft Azure Cloud computing AWS AZURE GOOGLE  Amazon Microsoft Azure Cloud computing AWS AZURE GOOGLE  Amazon Microsoft Azure Cloud computing AWS AZURE GOOGLE  Amazon Microsoft Azure',\n",
    " 'Networking': 'Networking  Network networks computer ports connect Networking  Network networks computer ports connect Networking  Network networks computer ports connect Networking  Network networks computer ports connectNetworking  Network networks computer ports connect Networking  Network networks computer ports connect Networking  Network networks computer ports connect Networking  Network networks computer ports connect Networking  Network networks computer ports connect Networking  Network networks computer ports connect Networking  Network networks computer ports connect Networking  Network networks computer ports connect Networking  Network networks computer ports connect Networking  Network networks computer ports connect Networking  Network networks computer ports connect Networking  Network networks computer ports connect Networking  Network networks computer ports connect Networking  Network networks computer ports connect Networking  Network networks computer ports connect Networking  Network networks computer ports connect Networking  Network networks computer ports connect Networking  Network networks computer ports connect Networking  Network networks computer ports connect',\n",
    " 'Machine Learning': 'ml Machine learning ml Machine learning ml Machine learning ml Machine learning ml Machine learning ml Machine learning ml Machine learning ml Machine learning ml Machine learning ml Machine learning ml Machine learning ml Machine learning ml Machine learning ml  Machine learning ml Machine learning ml Machine learning ml Machine learning ml  Machine learning ml Machine learning ml  Machine learning ml Machine learning ml  Machine learning ml Machine learning ml Machine learning ml Machine learning ml Machine learning ml Machine learning ml Machine learning ml Machine learning ml Machine learning ml Machine learning ml Machine learning ml Machine learning ml  Machine learning ml Machine learning ml Machine learning ml Machine learning ml  Machine learning ml Machine learning ml  Machine learning ml Machine learning ml ',\n",
    " 'Blockchain': 'cryptocurrency Blockchain Block chain Bitcoin cryptocurrency Blockchain Block chain Bitcoin cryptocurrency Blockchain Block chain Bitcoin cryptocurrency Blockchain Block chain Bitcoin cryptocurrency Blockchain Block chain Bitcoin cryptocurrency Blockchain Block chain Bitcoin cryptocurrency Blockchain Block chain Bitcoin cryptocurrency Blockchain Block chain Bitcoin  Blockchain Block chain Bitcoin cryptocurrency Blockchain Block chain Bitcoin Blockchain Block chain Bitcoin cryptocurrency Blockchain Block chain Bitcoin Blockchain Block chain Bitcoin cryptocurrency Blockchain Block chain Bitcoin Blockchain Block chain Bitcoin cryptocurrency Blockchain Block chain Bitcoin Blockchain Block chain Bitcoin cryptocurrency Blockchain Block chain Bitcoin Blockchain Block chain Bitcoin cryptocurrency Blockchain Block chain Bitcoin Blockchain Block chain Bitcoin cryptocurrency Blockchain Block chain Bitcoin Blockchain Block chain Bitcoin cryptocurrency Blockchain Block chain Bitcoin Blockchain Block chain Bitcoin cryptocurrency Blockchain Block chain Bitcoin Blockchain Block chain Bitcoin cryptocurrency Blockchain Block chain Bitcoin Blockchain Block chain Bitcoin cryptocurrency Blockchain Block chain Bitcoin Blockchain Block chain Bitcoin cryptocurrency Blockchain Block chain Bitcoin Blockchain Block chain Bitcoin cryptocurrency Blockchain Block chain Bitcoin',\n",
    " 'Development Processes': ' Development software processes process SDLC agile  Development software processes process SDLC agile  Development software processes process SDLC agile  Development software processes process SDLC agile  Development software processes process SDLC agile  Development software processes process SDLC agile  Development software processes process SDLC agile  Development software processes process SDLC agile   Development software processes process SDLC agile    Development software processes process SDLC agile    Development software processes process SDLC agile    Development software processes process SDLC agile    Development software processes process SDLC agile    Development software processes process SDLC agile    Development software processes process SDLC agile    Development software processes process SDLC agile    Development software processes process SDLC agile    Development software processes process SDLC agile    Development software processes process SDLC agile    Development software processes process SDLC agile    Development software processes process SDLC agile    Development software processes process SDLC agile    Development software processes process SDLC agile  ',\n",
    " 'Data Science': ' data scientists science big IBM kaggle. data scientists science big IBM kaggle data scientists science big IBM kaggle data scientists science big IBM kaggle data scientists science big IBM kaggle data scientists science big IBM kaggle data scientists science big IBM kaggle  data scientists science big IBM kaggle data scientists science big IBM kaggle data scientists science big IBM kaggle data scientists science big IBM kaggle data scientists science big IBM kaggle data scientists science big IBM kaggle data scientists science big IBM kaggle data scientists science big IBM kaggle data scientists science big IBM kaggle data scientists science big IBM kaggle data scientists science big IBM kaggle data scientists science big IBM kaggle data scientists science big IBM kaggle data scientists science big IBM kaggle data scientists science big IBM kaggle data scientists science big IBM kaggle data scientists science big IBM kaggle data scientists science big IBM kaggle data scientists science big IBM kaggle data scientists science big IBM kaggle data scientists science big IBM kaggle data scientists science big IBM kaggle data scientists science big IBM kaggle data scientists science big IBM kaggle data scientist science big IBM kaggle data scientist science big IBM kaggle data scientist science big IBM kaggle data scientists science big IBM kaggle data scientist science big IBM kaggle data scientists science big IBM kaggle'}"
   ]
  },
  {
   "cell_type": "code",
   "execution_count": 55,
   "metadata": {},
   "outputs": [],
   "source": [
    "listdict=[]\n",
    "listdictno=[]\n",
    "i=0\n",
    "for x in h1:\n",
    "    listdict.append(x)\n",
    "    listdictno.append(i)\n",
    "    i+=1"
   ]
  },
  {
   "cell_type": "code",
   "execution_count": 56,
   "metadata": {},
   "outputs": [
    {
     "data": {
      "text/plain": [
       "['Management',\n",
       " 'Coding',\n",
       " 'Security',\n",
       " 'Hardware',\n",
       " 'Web Development',\n",
       " 'Higher Education',\n",
       " 'IoT',\n",
       " 'Artificial Intelligence',\n",
       " 'Finance',\n",
       " 'Mobile Applications',\n",
       " 'Software Architecture',\n",
       " 'Cloud Computing',\n",
       " 'Networking',\n",
       " 'Machine Learning',\n",
       " 'Blockchain',\n",
       " 'Development Processes',\n",
       " 'Data Science']"
      ]
     },
     "execution_count": 56,
     "metadata": {},
     "output_type": "execute_result"
    }
   ],
   "source": [
    "listdict"
   ]
  },
  {
   "cell_type": "code",
   "execution_count": 73,
   "metadata": {},
   "outputs": [
    {
     "name": "stdout",
     "output_type": "stream",
     "text": [
      "  (0, 38)\t1\n"
     ]
    }
   ],
   "source": [
    "nlp_df = DataFrame(list(h1.items()),columns = ['Domain','txt']) \n",
    "from sklearn.feature_extraction.text import CountVectorizer\n",
    "from nltk.corpus import stopwords\n",
    "vectorizer = CountVectorizer(stop_words='english',binary=True)\n",
    "train_vectors = vectorizer.fit_transform(nlp_df.txt)\n",
    "temp1 = vectorizer.transform(['finance'])\n",
    "print(temp1)"
   ]
  },
  {
   "cell_type": "code",
   "execution_count": 74,
   "metadata": {},
   "outputs": [
    {
     "name": "stdout",
     "output_type": "stream",
     "text": [
      "[0. 0. 0. 0. 0. 0. 0. 0. 0. 0. 0. 0. 0. 0. 1. 0. 0.]\n",
      "Blockchain\n",
      "Artificial Intelligence\n"
     ]
    }
   ],
   "source": [
    "from sklearn.tree import DecisionTreeClassifier\n",
    "clf_tree = DecisionTreeClassifier()\n",
    "clf_tree.fit(train_vectors,nlp_df.Domain)\n",
    "pred = clf_tree.predict_proba(temp1)[0]\n",
    "print(pred)\n",
    "for index, prob in enumerate(pred):\n",
    "    if prob>=0.3:\n",
    "        for x,y in zip(pNO,listdict):\n",
    "            if x==index+1:\n",
    "                print(y)\n",
    "    \n",
    "from sklearn.naive_bayes import GaussianNB\n",
    "clf_bay = GaussianNB()\n",
    "clf_bay.fit(train_vectors.toarray(),nlp_df.Domain)\n",
    "pred = clf_bay.predict(temp1.toarray())[0]\n",
    "print(pred)\n",
    "    "
   ]
  },
  {
   "cell_type": "code",
   "execution_count": 75,
   "metadata": {},
   "outputs": [
    {
     "name": "stdout",
     "output_type": "stream",
     "text": [
      "Artificial Intelligence\n"
     ]
    }
   ],
   "source": [
    "from sklearn.naive_bayes import GaussianNB\n",
    "clf_bay = GaussianNB()\n",
    "clf_bay.fit(train_vectors.toarray(),nlp_df.Domain)\n",
    "pred = clf_bay.predict(temp1.toarray())[0]\n",
    "print(pred)"
   ]
  },
  {
   "cell_type": "code",
   "execution_count": null,
   "metadata": {},
   "outputs": [],
   "source": []
  },
  {
   "cell_type": "code",
   "execution_count": null,
   "metadata": {},
   "outputs": [],
   "source": []
  }
 ],
 "metadata": {
  "gist": {
   "data": {
    "description": "PythonProjects/Cloud Counselage/GOD.ipynb",
    "public": false
   },
   "id": ""
  },
  "kernelspec": {
   "display_name": "Python 3",
   "language": "python",
   "name": "python3"
  },
  "language_info": {
   "codemirror_mode": {
    "name": "ipython",
    "version": 3
   },
   "file_extension": ".py",
   "mimetype": "text/x-python",
   "name": "python",
   "nbconvert_exporter": "python",
   "pygments_lexer": "ipython3",
   "version": "3.6.5"
  }
 },
 "nbformat": 4,
 "nbformat_minor": 4
}
