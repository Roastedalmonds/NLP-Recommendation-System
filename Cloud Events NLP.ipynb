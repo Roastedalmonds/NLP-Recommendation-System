{
 "cells": [
  {
   "cell_type": "code",
   "execution_count": 1,
   "metadata": {
    "run_control": {
     "marked": false
    }
   },
   "outputs": [],
   "source": [
    "import pandas as pd\n",
    "import openpyxl\n",
    "from pandas import DataFrame\n",
    "from sklearn import tree\n",
    "import pickle\n",
    "import json"
   ]
  },
  {
   "cell_type": "code",
   "execution_count": 2,
   "metadata": {
    "run_control": {
     "marked": false
    }
   },
   "outputs": [],
   "source": [
    "printscoreone=0\n",
    "printscoretwo=0\n",
    "name_list=[]\n",
    "temp_name_list=[]"
   ]
  },
  {
   "cell_type": "code",
   "execution_count": 3,
   "metadata": {
    "run_control": {
     "marked": false
    }
   },
   "outputs": [],
   "source": [
    "df = pd.read_csv('D:\\\\Cloud Counselage\\\\Data.csv')"
   ]
  },
  {
   "cell_type": "code",
   "execution_count": 4,
   "metadata": {
    "run_control": {
     "marked": false
    }
   },
   "outputs": [],
   "source": [
    "dmUQ = df.Domain.unique()\n",
    "dmNO=[]\n",
    "[dmNO.append(x) for x in range(1,len(dmUQ)+1)]    \n",
    "\n",
    "eeUQ = df.Event1.unique()\n",
    "eeNO=[]\n",
    "[eeNO.append(x) for x in range(1,len(eeUQ)+1)]\n",
    "    \n",
    "    \n",
    "pUQ = df.Name.unique()\n",
    "pNO=[]\n",
    "[pNO.append(x) for x in range(1,len(pUQ)+1)]\n",
    "               \n",
    "df['Event1'].replace(eeUQ,eeNO,inplace=True)\n",
    "df['Event2'].replace(eeUQ,eeNO,inplace=True)\n",
    "df['Domain'].replace(dmUQ,dmNO,inplace=True)\n",
    "df['Name'].replace(pUQ,pNO,inplace=True)\n",
    "    \n",
    "tmp_df=df.copy()"
   ]
  },
  {
   "cell_type": "code",
   "execution_count": 6,
   "metadata": {},
   "outputs": [],
   "source": [
    "inst = open(\"Domain_extract_file.pkl\",\"rb\")\n",
    "Domain_extract = pickle.load(inst)\n",
    "inst2 = open(\"Event_extract_file.pkl\",\"rb\")\n",
    "Event_extract = pickle.load(inst2)"
   ]
  },
  {
   "cell_type": "code",
   "execution_count": 8,
   "metadata": {
    "run_control": {
     "marked": false
    }
   },
   "outputs": [
    {
     "name": "stdout",
     "output_type": "stream",
     "text": [
      "Enter number of events: 1\n",
      "Enter Event No.1 name: blockchain seminar\n",
      ">>>BLOCKCHAIN SEMINAR\n"
     ]
    }
   ],
   "source": [
    "c=0\n",
    "event_list=[]\n",
    "\n",
    "while(c==0):\n",
    "    try:\n",
    "        event_no = int(input('Enter number of events: '))\n",
    "        c=1\n",
    "    except:\n",
    "        print('ENTER A NUMBER!')\n",
    "        \n",
    "for x in range(1,event_no+1):\n",
    "    event = (input(f'Enter Event No.{x} name: ')).upper()\n",
    "    event_list.append(event)\n",
    "    print(f'>>>{event}')"
   ]
  },
  {
   "cell_type": "code",
   "execution_count": 9,
   "metadata": {
    "run_control": {
     "marked": false
    }
   },
   "outputs": [],
   "source": [
    "def dom_eve_extractor(t):\n",
    "    flag_domain = 0\n",
    "    words = t.split()\n",
    "    import re\n",
    "    import string\n",
    "    re_punc = re.compile('[%s]' % re.escape(string.punctuation))\n",
    "    words = [re_punc.sub('', x) for x in words]\n",
    "    DE= []\n",
    "    DE_ml= []\n",
    "    for x in words:\n",
    "        try:\n",
    "            DE.append(Domain_extract[x])\n",
    "            flag_domain = 1\n",
    "        except:\n",
    "            pass\n",
    "    \n",
    "    if flag_domain == 0:\n",
    "        for x in words:\n",
    "            for y in words:\n",
    "                try:\n",
    "                    dummy = x+' '+y\n",
    "                    DE.append(Domain_extract[dummy])\n",
    "                except:\n",
    "                    pass   \n",
    "                \n",
    "    f = open('dict_nlp.pkl','rb')\n",
    "    dict_nlp =pickle.load(f)\n",
    "    f.close()\n",
    "    nlp_df = DataFrame(list(dict_nlp.items()),columns = ['Domain','txt']) \n",
    "    from sklearn.feature_extraction.text import CountVectorizer\n",
    "    from nltk.corpus import stopwords\n",
    "    vectorizer = CountVectorizer(stop_words='english',binary=True)\n",
    "    train_vectors = vectorizer.fit_transform(nlp_df.txt)\n",
    "    temp1 = vectorizer.transform([t])\n",
    "    \n",
    "    \n",
    "    from sklearn import svm\n",
    "    clf_svm = svm.SVC(kernel='rbf')\n",
    "    clf_svm.fit(train_vectors,nlp_df.Domain)\n",
    "    pred = clf_svm.predict(temp1)[0]\n",
    "    DE_ml.append(pred)\n",
    "    \n",
    "    clf_svm = svm.SVC(kernel='linear')\n",
    "    clf_svm.fit(train_vectors,nlp_df.Domain)\n",
    "    pred = clf_svm.predict(temp1)[0]\n",
    "    DE_ml.append(pred)\n",
    "    \n",
    "    from sklearn.tree import DecisionTreeClassifier\n",
    "    clf_tree = DecisionTreeClassifier()\n",
    "    clf_tree.fit(train_vectors,nlp_df.Domain)\n",
    "    pred = clf_tree.predict(temp1)[0]\n",
    "    DE_ml.append(pred)\n",
    "    \n",
    "    from sklearn.naive_bayes import GaussianNB\n",
    "    clf_bay = GaussianNB()\n",
    "    clf_bay.fit(train_vectors.toarray(),nlp_df.Domain)\n",
    "    pred = clf_bay.predict(temp1.toarray())[0]\n",
    "    DE_ml.append(pred)\n",
    "    \n",
    "    \n",
    "    from sklearn.ensemble import RandomForestClassifier\n",
    "    clf_RF = RandomForestClassifier()\n",
    "    clf_RF.fit(train_vectors,nlp_df.Domain)\n",
    "    pred = clf_RF.predict(temp1)[0]\n",
    "    DE_ml.append(pred)\n",
    "    \n",
    "    \n",
    "    for x in DE:\n",
    "        if x not in DE_ml:\n",
    "            DE_ml.append(x)\n",
    "    DE_ml = list(dict.fromkeys(DE_ml))\n",
    "    \n",
    "    for x in DE_ml:\n",
    "        if x not in DE:\n",
    "            io=1\n",
    "            DE_ml=DE\n",
    "    \n",
    "    if (len(DE_ml) == 0):\n",
    "        DE_ml.append('Other') \n",
    "        \n",
    "    print(DE_ml)\n",
    "    return DE_ml\n"
   ]
  },
  {
   "cell_type": "code",
   "execution_count": 10,
   "metadata": {},
   "outputs": [],
   "source": [
    "def eve_ext(t):\n",
    "    t=t.split()\n",
    "    import re\n",
    "    import string\n",
    "    re_punc = re.compile('[%s]' % re.escape(string.punctuation))\n",
    "    t = [re_punc.sub('', x) for x in t]\n",
    "    EE= []\n",
    "    for x in t:\n",
    "        try:            \n",
    "            EE.append(Event_extract[x])\n",
    "        except:\n",
    "            pass\n",
    "    print(EE)\n",
    "    return EE"
   ]
  },
  {
   "cell_type": "markdown",
   "metadata": {},
   "source": [
    "## Training with Event 1"
   ]
  },
  {
   "cell_type": "code",
   "execution_count": 11,
   "metadata": {
    "run_control": {
     "marked": false
    }
   },
   "outputs": [],
   "source": [
    "def traineventone(tmp_df,printscoreone):\n",
    "    x_train = tmp_df[['Event1','Domain']]\n",
    "    y_train = tmp_df['Name']\n",
    "    req_ENO =[]\n",
    "    req_DNO =[]\n",
    "    clf = tree.DecisionTreeClassifier()\n",
    "\n",
    "    clf.fit(x_train,y_train)\n",
    "    y_pred = clf.predict(x_train)\n",
    "    \n",
    "\n",
    "    def p1():\n",
    "        for x,y in zip(eeNO,eeUQ):\n",
    "            if y in EE:\n",
    "                req_ENO.append(x)  \n",
    "        for x,y in zip(dmNO,dmUQ):\n",
    "            if y in DE:\n",
    "                req_DNO.append(x) \n",
    "                \n",
    "        def p2(req_ENO,req_DNO):\n",
    "            flagg=0\n",
    "            if(len(req_ENO)>len(req_DNO)):\n",
    "                diff=len(req_ENO)-len(req_DNO)    \n",
    "                [req_DNO.append(req_DNO[-1]) for i in range(0,diff)]\n",
    "                \n",
    "            else:\n",
    "                diff=len(req_DNO)-len(req_ENO)\n",
    "                try:\n",
    "                    [req_ENO.append(req_ENO[-1]) for i in range(0,diff)]\n",
    "                    flagg=1\n",
    "                except:\n",
    "                    pass\n",
    "                \n",
    "            if flagg==1:\n",
    "                for e,d in zip(req_ENO,req_DNO):\n",
    "                    x_new=[[e,d]]   \n",
    "                    tmp = clf.predict_proba(x_new)\n",
    "                    for index, prob in enumerate(tmp[0]):\n",
    "                        if prob>=0.5:\n",
    "                            for x,y in zip(pNO,pUQ):\n",
    "                                if x==index+1:\n",
    "                                    temp_name_list.append(y)\n",
    "        p2(req_ENO,req_DNO)\n",
    "    p1()"
   ]
  },
  {
   "cell_type": "markdown",
   "metadata": {},
   "source": [
    "## With Event 2"
   ]
  },
  {
   "cell_type": "code",
   "execution_count": 12,
   "metadata": {
    "run_control": {
     "marked": false
    }
   },
   "outputs": [],
   "source": [
    "def traineventtwo(tmp_df,printscoretwo):\n",
    "    x_train = df[['Event2','Domain']]\n",
    "    y_train = df['Name']\n",
    "    req_ENO =[]\n",
    "    req_DNO =[]\n",
    "\n",
    "    clf = tree.DecisionTreeClassifier()\n",
    "    clf.fit(x_train,y_train)\n",
    "    \n",
    "    y_pred = clf.predict(x_train)\n",
    "    def d1():\n",
    "        for x,y in zip(eeNO,eeUQ):\n",
    "            if y in EE:\n",
    "                req_ENO.append(x)\n",
    "        for x,y in zip(dmNO,dmUQ):\n",
    "            if y in DE:\n",
    "                req_DNO.append(x)\n",
    "                \n",
    "        def d2(req_ENO,req_DNO):\n",
    "            flagg=0\n",
    "            if(len(req_ENO)>len(req_DNO)):\n",
    "                diff=len(req_ENO)-len(req_DNO)\n",
    "                [req_DNO.append(req_DNO[-1]) for i in range(0,diff)]\n",
    "\n",
    "            else:\n",
    "                diff=len(req_DNO)-len(req_ENO)\n",
    "                try:\n",
    "                    [req_ENO.append(req_ENO[-1]) for i in range(0,diff)]\n",
    "                    flagg=1\n",
    "                except:\n",
    "                    pass\n",
    "            \n",
    "            if flagg==1:\n",
    "                for e,d in zip(req_ENO,req_DNO):\n",
    "                    x_new=[[e,d]]\n",
    "                    yprob = clf.predict_proba(x_new)\n",
    "                    y_pred = clf.predict(x_new)\n",
    "                    for indx,prob in enumerate(yprob[0]):\n",
    "                        if prob>=0.5:\n",
    "                            for x,y in zip(pNO,pUQ):\n",
    "                                if x==indx+1:\n",
    "                                    temp_name_list.append(y)\n",
    "        d2(req_ENO,req_DNO)\n",
    "    d1()"
   ]
  },
  {
   "cell_type": "code",
   "execution_count": 13,
   "metadata": {
    "run_control": {
     "marked": false
    },
    "scrolled": true
   },
   "outputs": [
    {
     "name": "stdout",
     "output_type": "stream",
     "text": [
      "['Blockchain']\n",
      "['Seminars']\n"
     ]
    }
   ],
   "source": [
    "words2num_flag = 0\n",
    "\n",
    "for t in event_list:\n",
    "    DE = dom_eve_extractor(t)\n",
    "    EE = eve_ext(t)\n",
    "    traineventone(tmp_df,printscoreone)\n",
    "    traineventtwo(tmp_df,printscoretwo)\n",
    "    name_list.append(temp_name_list)\n",
    "    temp_name_list=[]"
   ]
  },
  {
   "cell_type": "code",
   "execution_count": 14,
   "metadata": {},
   "outputs": [],
   "source": [
    "dict1 = {}\n",
    "dict2 = {}"
   ]
  },
  {
   "cell_type": "code",
   "execution_count": 15,
   "metadata": {},
   "outputs": [],
   "source": [
    "for totalppl,event in zip(name_list,event_list):\n",
    "    for person in totalppl:\n",
    "        if person not in dict1:\n",
    "            dict1[person]=event\n",
    "        elif person in dict1:\n",
    "            dict2[person]=event"
   ]
  },
  {
   "cell_type": "code",
   "execution_count": 16,
   "metadata": {},
   "outputs": [],
   "source": [
    "dfx = DataFrame(list(dict1.items()),columns = ['Employee Name','Events']) "
   ]
  },
  {
   "cell_type": "code",
   "execution_count": 17,
   "metadata": {},
   "outputs": [
    {
     "data": {
      "text/html": [
       "<div>\n",
       "<style scoped>\n",
       "    .dataframe tbody tr th:only-of-type {\n",
       "        vertical-align: middle;\n",
       "    }\n",
       "\n",
       "    .dataframe tbody tr th {\n",
       "        vertical-align: top;\n",
       "    }\n",
       "\n",
       "    .dataframe thead th {\n",
       "        text-align: right;\n",
       "    }\n",
       "</style>\n",
       "<table border=\"1\" class=\"dataframe\">\n",
       "  <thead>\n",
       "    <tr style=\"text-align: right;\">\n",
       "      <th></th>\n",
       "      <th>Employee Name</th>\n",
       "      <th>Events</th>\n",
       "    </tr>\n",
       "  </thead>\n",
       "  <tbody>\n",
       "    <tr>\n",
       "      <th>0</th>\n",
       "      <td>James Porter</td>\n",
       "      <td>BLOCKCHAIN SEMINAR</td>\n",
       "    </tr>\n",
       "    <tr>\n",
       "      <th>1</th>\n",
       "      <td>William Turner</td>\n",
       "      <td>BLOCKCHAIN SEMINAR</td>\n",
       "    </tr>\n",
       "  </tbody>\n",
       "</table>\n",
       "</div>"
      ],
      "text/plain": [
       "    Employee Name              Events\n",
       "0    James Porter  BLOCKCHAIN SEMINAR\n",
       "1  William Turner  BLOCKCHAIN SEMINAR"
      ]
     },
     "execution_count": 17,
     "metadata": {},
     "output_type": "execute_result"
    }
   ],
   "source": [
    "if bool(dict2):\n",
    "    dfy = DataFrame(list(dict2.items()),columns = ['Employee Name','Events'])\n",
    "    dfx = dfx.append(dfy).reset_index()\n",
    "    dfx.drop(columns='index')\n",
    "dfx"
   ]
  },
  {
   "cell_type": "code",
   "execution_count": 20,
   "metadata": {},
   "outputs": [],
   "source": [
    "dfx.to_excel('CloudEvents.xlsx', index = None, header=True)"
   ]
  }
 ],
 "metadata": {
  "gist": {
   "data": {
    "description": "PythonProjects/Cloud Counselage/GOD.ipynb",
    "public": false
   },
   "id": ""
  },
  "kernelspec": {
   "display_name": "Python 3",
   "language": "python",
   "name": "python3"
  },
  "language_info": {
   "codemirror_mode": {
    "name": "ipython",
    "version": 3
   },
   "file_extension": ".py",
   "mimetype": "text/x-python",
   "name": "python",
   "nbconvert_exporter": "python",
   "pygments_lexer": "ipython3",
   "version": "3.6.5"
  }
 },
 "nbformat": 4,
 "nbformat_minor": 4
}
